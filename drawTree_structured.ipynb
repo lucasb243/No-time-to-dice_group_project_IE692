{
 "cells": [
  {
   "cell_type": "code",
   "execution_count": 1,
   "metadata": {},
   "outputs": [
    {
     "name": "stderr",
     "output_type": "stream",
     "text": [
      "/Users/lasse/Library/Mobile Documents/com~apple~CloudDocs/Studium Mannheim/2_Semester/Advanced Process Mining/Project/No-time-to-dice_group_project_IE692/OrdinoR-dev/ordinor/execution_context/rule_based/decision_tree.py:44: FutureWarning: Passing a set as an indexer is deprecated and will raise in a future version. Use a list instead.\n",
      "  self._log = el[included_cols]\n",
      "/Users/lasse/Library/Mobile Documents/com~apple~CloudDocs/Studium Mannheim/2_Semester/Advanced Process Mining/Project/No-time-to-dice_group_project_IE692/OrdinoR-dev/ordinor/execution_context/rule_based/decision_tree.py:47: SettingWithCopyWarning: \n",
      "A value is trying to be set on a copy of a slice from a DataFrame.\n",
      "Try using .loc[row_indexer,col_indexer] = value instead\n",
      "\n",
      "See the caveats in the documentation: https://pandas.pydata.org/pandas-docs/stable/user_guide/indexing.html#returning-a-view-versus-a-copy\n",
      "  self._log[const.RESOURCE] = self._log[const.RESOURCE].astype('category')\n",
      "/Users/lasse/Library/Mobile Documents/com~apple~CloudDocs/Studium Mannheim/2_Semester/Advanced Process Mining/Project/No-time-to-dice_group_project_IE692/OrdinoR-dev/ordinor/execution_context/rule_based/decision_tree.py:50: SettingWithCopyWarning: \n",
      "A value is trying to be set on a copy of a slice from a DataFrame.\n",
      "Try using .loc[row_indexer,col_indexer] = value instead\n",
      "\n",
      "See the caveats in the documentation: https://pandas.pydata.org/pandas-docs/stable/user_guide/indexing.html#returning-a-view-versus-a-copy\n",
      "  self._log[type_def_attr] = self._log[type_def_attr].astype('category')\n",
      "/Users/lasse/Library/Mobile Documents/com~apple~CloudDocs/Studium Mannheim/2_Semester/Advanced Process Mining/Project/No-time-to-dice_group_project_IE692/OrdinoR-dev/ordinor/execution_context/rule_based/decision_tree.py:81: FutureWarning: The default dtype for empty Series will be 'object' instead of 'float64' in a future version. Specify a dtype explicitly to silence this warning.\n",
      "  self._m_event_node = pd.Series()\n"
     ]
    },
    {
     "name": "stdout",
     "output_type": "stream",
     "text": [
      "Decision tree initialized with an empty root node\n",
      "\tDis. = 0.000000, Imp. = 1.000000, Harmonic Mean. = 0.000000, *** Tree has 1 leaf node(s). ***\n",
      "Start to fit decision tree with max. height = 12\n",
      "Tree grows by splitting all current leaf nodes on `at:phase`, step=1 (running for 00:00:13s)\n",
      "\tDis. = 0.000155, Imp. = 0.999941, Harmonic Mean. = 0.000310, *** Tree has 2 leaf node(s). ***\n",
      "Tree grows by splitting all current leaf nodes on `tt:weekday`, step=2 (running for 00:00:27s)\n",
      "\tDis. = 0.000846, Imp. = 0.999770, Harmonic Mean. = 0.001691, *** Tree has 3 leaf node(s). ***\n",
      "Tree grows by splitting all current leaf nodes on `at:phase`, step=3 (running for 00:00:39s)\n",
      "\tDis. = 0.003602, Imp. = 0.998144, Harmonic Mean. = 0.007179, *** Tree has 4 leaf node(s). ***\n",
      "Tree grows by splitting all current leaf nodes on `tt:weekday`, step=4 (running for 00:00:49s)\n",
      "\tDis. = 0.008072, Imp. = 0.997118, Harmonic Mean. = 0.016015, *** Tree has 6 leaf node(s). ***\n",
      "Tree grows by splitting all current leaf nodes on `at:phase`, step=5 (running for 00:00:57s)\n",
      "\tDis. = 0.040328, Imp. = 0.989721, Harmonic Mean. = 0.077498, *** Tree has 8 leaf node(s). ***\n",
      "Tree grows by splitting all current leaf nodes on `at:phase`, step=6 (running for 00:01:04s)\n",
      "\tDis. = 0.111707, Imp. = 0.981619, Harmonic Mean. = 0.200587, *** Tree has 10 leaf node(s). ***\n",
      "Tree grows by splitting all current leaf nodes on `at:phase`, step=7 (running for 00:01:09s)\n",
      "\tDis. = 0.175908, Imp. = 0.971078, Harmonic Mean. = 0.297859, *** Tree has 12 leaf node(s). ***\n",
      "Tree grows by splitting all current leaf nodes on `ct:permit_type`, step=8 (running for 00:01:14s)\n",
      "\tDis. = 0.242968, Imp. = 0.941727, Harmonic Mean. = 0.386275, *** Tree has 22 leaf node(s). ***\n",
      "Tree grows by splitting all current leaf nodes on `at:phase`, step=9 (running for 00:01:24s)\n",
      "\tDis. = 0.293891, Imp. = 0.921773, Harmonic Mean. = 0.445683, *** Tree has 27 leaf node(s). ***\n",
      "Tree grows by splitting all current leaf nodes on `at:phase`, step=10 (running for 00:01:35s)\n",
      "\tDis. = 0.346751, Imp. = 0.906227, Harmonic Mean. = 0.501581, *** Tree has 32 leaf node(s). ***\n",
      "Tree grows by splitting all current leaf nodes on `at:phase`, step=11 (running for 00:01:49s)\n",
      "\tDis. = 0.377754, Imp. = 0.888446, Harmonic Mean. = 0.530113, *** Tree has 36 leaf node(s). ***\n",
      "Tree grows by splitting all current leaf nodes on `tt:weekday`, step=12 (running for 00:02:06s)\n",
      "\tDis. = 0.454203, Imp. = 0.878790, Harmonic Mean. = 0.598876, *** Tree has 53 leaf node(s). ***\n",
      "Sub-tree at step 7 is selected as the final solution: dispersal = 0.175908, impurity = 0.971078\n",
      "********************************************************************************\n",
      "============================== TREE SUMMARY ==============================\n",
      "Score of the current tree:\tDis. = 0.175908, Imp. = 0.971078, Harmonic Mean. = 0.297859, *** Tree has 12 leaf node(s). ***\n",
      "============================== LEAF NODES ==============================\n",
      "193453 events were partitioned into 12 leaf nodes:\n",
      "========================= ENCODING TYPES WITH RULES =========================\n",
      "Rules for Case Types:\n",
      "\tT(NULL)\n",
      "Rules for Activity Types:\n",
      "\t(`at:phase` ELEMENT OF {'01_HOOFD_6'})\n",
      "\t(`at:phase` ELEMENT OF {'01_HOOFD_7'})\n",
      "\t(`at:phase` ELEMENT OF {'01_HOOFD_8'})\n",
      "\t(`at:phase` ELEMENT OF {'01_HOOFD_0', '01_HOOFD_1', '01_HOOFD_4', '01_HOOFD_5'})\n",
      "\t(`at:phase` ELEMENT OF {'01_HOOFD_2'})\n",
      "\t(`at:phase` ELEMENT OF {'01_HOOFD_3'})\n",
      "Rules for Time Types:\n",
      "\t(`tt:weekday` ELEMENT OF {'Fri', 'Mon', 'Thu', 'Tue', 'Wed'})\n",
      "\t(`tt:weekday` ELEMENT OF {'Sat'})\n",
      "\t(`tt:weekday` ELEMENT OF {'Sun'})\n",
      "********************************************************************************\n",
      "Procedure history has been written to files.\n",
      "--------------------------------------------------------------------------------\n",
      "Count of Types in the current ODTMiner:\n",
      "Number of C Types:\t\t1\n",
      "Number of A Types:\t\t6\n",
      "Number of T Types:\t\t3\n",
      "--------------------------------------------------------------------------------\n"
     ]
    }
   ],
   "source": [
    "#TODO: unify learn.py and learn.ipynb\n",
    "from learn import miner\n"
   ]
  },
  {
   "cell_type": "code",
   "execution_count": 2,
   "metadata": {},
   "outputs": [],
   "source": [
    "from tree import TreeNode, TreePrinter\n",
    "from ordinor.execution_context.rule_based.TreeNode import Node\n"
   ]
  },
  {
   "cell_type": "code",
   "execution_count": 3,
   "metadata": {},
   "outputs": [],
   "source": [
    "all_nodes_matrix = []\n",
    "all_events = []\n",
    "for node in miner.l_history_persistent[0]['solution'].values():\n",
    "    all_events.extend(node.event_ids)\n",
    "\n",
    "root_node = Node(\n",
    "    label=0,\n",
    "    event_ids=all_events,\n",
    "    ct_label=None,\n",
    "    at_label=None,\n",
    "    tt_label=None)\n",
    "root_TreeNode_in_list = []\n",
    "root_TreeNode_in_list = [TreeNode(root_node.label, root_node.parent_label, root_node, 0, None, [])]\n",
    "all_nodes_matrix.append(root_TreeNode_in_list)\n",
    "for i, step in enumerate(miner.l_history_persistent): # i to be sure we we are when navigating the tree\n",
    "    all_nodes_this_step = []\n",
    "    for node in step['solution'].values():\n",
    "        current_node = TreeNode(node.label,node.parent_label, node, i+1, None, [])\n",
    "        all_nodes_this_step.append(current_node)\n",
    "    all_nodes_matrix.append(all_nodes_this_step)\n",
    "\n",
    "for i, all_nodes_this_step in enumerate(reversed(all_nodes_matrix)):\n",
    "    for node in all_nodes_this_step:\n",
    "        if node.parent_label is not None:\n",
    "            candidate_parent = next((parent_node for parent_node in all_nodes_matrix[len(\n",
    "                all_nodes_matrix)-i-2] if parent_node.label == node.parent_label), None)\n",
    "            if candidate_parent is not None:\n",
    "                node.parent = candidate_parent\n",
    "            else:\n",
    "                node.parent = next((parent_node for parent_node in all_nodes_matrix[len(all_nodes_matrix)-i-2] if parent_node.label == node.label))\n",
    "            if node.parent is not None:\n",
    "                node.parent.children.append(node)"
   ]
  },
  {
   "cell_type": "code",
   "execution_count": 4,
   "metadata": {},
   "outputs": [],
   "source": [
    "\n",
    "def printAllNodesWithStep(node, step):\n",
    "    if node.step > step:\n",
    "        return\n",
    "    elif node.step == step:\n",
    "        print(node)\n",
    "    if node.children:\n",
    "        for child in node.children:\n",
    "            printAllNodesWithStep(child, step)\n",
    "    else:\n",
    "        return\n"
   ]
  },
  {
   "cell_type": "code",
   "execution_count": 5,
   "metadata": {},
   "outputs": [],
   "source": [
    "treePrinter = TreePrinter(\n",
    "    all_nodes_matrix[0][0], \n",
    "    9, \n",
    "    miner.l_history_persistent\n",
    "    )\n",
    "treePrinter.print_tree_svg()\n"
   ]
  },
  {
   "cell_type": "code",
   "execution_count": 6,
   "metadata": {},
   "outputs": [],
   "source": [
    "import cairosvg\n",
    "\n",
    "cairosvg.svg2png(url=\"tree.svg\", write_to=\"tree.png\", scale=4.0)\n"
   ]
  }
 ],
 "metadata": {
  "kernelspec": {
   "display_name": "ProcessMining",
   "language": "python",
   "name": "python3"
  },
  "language_info": {
   "codemirror_mode": {
    "name": "ipython",
    "version": 3
   },
   "file_extension": ".py",
   "mimetype": "text/x-python",
   "name": "python",
   "nbconvert_exporter": "python",
   "pygments_lexer": "ipython3",
   "version": "3.10.9"
  },
  "orig_nbformat": 4
 },
 "nbformat": 4,
 "nbformat_minor": 2
}
