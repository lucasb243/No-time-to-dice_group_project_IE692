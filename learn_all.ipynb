{
 "cells": [
  {
   "attachments": {},
   "cell_type": "markdown",
   "metadata": {},
   "source": [
    "which data sets are used?\n",
    "\n",
    "1. no time adjustment ()\n",
    "2. time adjustment to fit his el (_AEST)\n",
    "3. his event log"
   ]
  },
  {
   "attachments": {},
   "cell_type": "markdown",
   "metadata": {},
   "source": [
    "read base xes files"
   ]
  },
  {
   "cell_type": "code",
   "execution_count": 14,
   "metadata": {},
   "outputs": [
    {
     "data": {
      "application/vnd.jupyter.widget-view+json": {
       "model_id": "5742665d82dc46d7a0c7bf1b2d6e34b6",
       "version_major": 2,
       "version_minor": 0
      },
      "text/plain": [
       "parsing log, completed traces ::   0%|          | 0/1199 [00:00<?, ?it/s]"
      ]
     },
     "metadata": {},
     "output_type": "display_data"
    },
    {
     "data": {
      "application/vnd.jupyter.widget-view+json": {
       "model_id": "ed26c4a6584548a7b6f79ef338e23618",
       "version_major": 2,
       "version_minor": 0
      },
      "text/plain": [
       "parsing log, completed traces ::   0%|          | 0/832 [00:00<?, ?it/s]"
      ]
     },
     "metadata": {},
     "output_type": "display_data"
    },
    {
     "data": {
      "application/vnd.jupyter.widget-view+json": {
       "model_id": "f15f8bf76904456c82f4721efe478e58",
       "version_major": 2,
       "version_minor": 0
      },
      "text/plain": [
       "parsing log, completed traces ::   0%|          | 0/1409 [00:00<?, ?it/s]"
      ]
     },
     "metadata": {},
     "output_type": "display_data"
    },
    {
     "data": {
      "application/vnd.jupyter.widget-view+json": {
       "model_id": "8ba0eca0a64447aea5a175591988b262",
       "version_major": 2,
       "version_minor": 0
      },
      "text/plain": [
       "parsing log, completed traces ::   0%|          | 0/1053 [00:00<?, ?it/s]"
      ]
     },
     "metadata": {},
     "output_type": "display_data"
    },
    {
     "data": {
      "application/vnd.jupyter.widget-view+json": {
       "model_id": "cc1316a4fbcd4dfcbc36ab4ef1a8baf8",
       "version_major": 2,
       "version_minor": 0
      },
      "text/plain": [
       "parsing log, completed traces ::   0%|          | 0/1156 [00:00<?, ?it/s]"
      ]
     },
     "metadata": {},
     "output_type": "display_data"
    }
   ],
   "source": [
    "import pm4py\n",
    "import pandas as pd\n",
    "from pytz import timezone\n",
    "\n",
    "# read and combine all event logs\n",
    "dfs = []\n",
    "for i in range(1,6):\n",
    "    log = pm4py.read_xes('base_xes_files/BPIC15_'+str(i)+'.xes')\n",
    "    log.head()\n",
    "    df = pm4py.convert_to_dataframe(log)\n",
    "    df[\"r:municipality\"] = f\"muni-{i}\"\n",
    "    dfs.append(df)\n",
    "combined_df = pd.concat(dfs, axis=0)\n"
   ]
  },
  {
   "attachments": {},
   "cell_type": "markdown",
   "metadata": {},
   "source": [
    "add australian time\n",
    "\n",
    "AEST (Australian eastern standard time has no summer/winter time)\n"
   ]
  },
  {
   "cell_type": "code",
   "execution_count": 16,
   "metadata": {},
   "outputs": [],
   "source": [
    "# change time back to Amsterdam because pm4py automatically converts to UTC\n",
    "amsterdam_tz = timezone('Europe/Amsterdam')\n",
    "combined_df['time:timestamp'] = combined_df['time:timestamp'].dt.tz_convert(\n",
    "    amsterdam_tz)\n",
    "\n",
    "# save to file\n",
    "combined_df.to_csv(\"data/raw/bpic15.csv\", index=False)\n",
    "\n",
    "# change time to AEST (as in the paper) --> does not work (times are still off)\n",
    "#aest_tz = timezone('Australia/Sydney')\n",
    "#combined_df['time:timestamp'] = combined_df['time:timestamp'].dt.tz_convert(aest_tz)\n",
    "\n",
    "# add 10 hours manually\n",
    "aest_tz = timezone('UTC')\n",
    "combined_df['time:timestamp'] = combined_df['time:timestamp'].dt.tz_convert(\n",
    "    aest_tz)\n",
    "combined_df['time:timestamp'] = combined_df['time:timestamp'].apply(lambda ts: ts + pd.Timedelta(hours=10))\n",
    "\n",
    "# save to file\n",
    "combined_df.to_csv(\"data/raw/bpic15_AEST.csv\", index=False)"
   ]
  },
  {
   "attachments": {},
   "cell_type": "markdown",
   "metadata": {},
   "source": [
    "perform preprocessing steps\n"
   ]
  },
  {
   "cell_type": "code",
   "execution_count": 17,
   "metadata": {},
   "outputs": [
    {
     "name": "stderr",
     "output_type": "stream",
     "text": [
      "/var/folders/s_/tyyjfphn3wl93jz8bhkrh3x40000gn/T/ipykernel_85010/3091059455.py:6: DtypeWarning: Columns (21,26,27,28) have mixed types. Specify dtype option on import or set low_memory=False.\n",
      "  df = pd.read_csv(fn)[[\n"
     ]
    },
    {
     "name": "stdout",
     "output_type": "stream",
     "text": [
      "        case:concept:name                    activity label  org:resource  \\\n",
      "0                10009138  register submission date request       9264148   \n",
      "1                10009138              OLO messaging active       9264148   \n",
      "2                10009138         send confirmation receipt       9264148   \n",
      "5                10009138     create procedure confirmation       9264148   \n",
      "6                10009138      create subcases completeness       9264148   \n",
      "...                   ...                               ...           ...   \n",
      "262621            9998898       read publication date field        560600   \n",
      "262622            9998898     registration date publication        560600   \n",
      "262623            9998898      stop all running subcases 2b        560600   \n",
      "262624            9998898                phase case handled        560600   \n",
      "262625            9998898       read publication date field        560600   \n",
      "\n",
      "                   time:timestamp          ct:last_phase  \\\n",
      "0       2014-04-11 00:00:00+02:00  Beschikking verzonden   \n",
      "1       2014-04-14 00:00:00+02:00  Beschikking verzonden   \n",
      "2       2014-04-14 00:00:00+02:00  Beschikking verzonden   \n",
      "5       2014-04-14 00:00:00+02:00  Beschikking verzonden   \n",
      "6       2014-04-14 00:00:00+02:00  Beschikking verzonden   \n",
      "...                           ...                    ...   \n",
      "262621  2014-03-12 00:00:00+01:00       Zaak afgehandeld   \n",
      "262622  2014-03-12 00:00:00+01:00       Zaak afgehandeld   \n",
      "262623  2014-03-12 00:00:00+01:00       Zaak afgehandeld   \n",
      "262624  2014-03-12 00:00:00+01:00       Zaak afgehandeld   \n",
      "262625  2014-03-12 00:00:00+01:00       Zaak afgehandeld   \n",
      "\n",
      "                                   case_parts    concept:name r:municipality  \\\n",
      "0                                Bouw,Reclame    01_HOOFD_010         muni-1   \n",
      "1                                Bouw,Reclame    01_HOOFD_011         muni-1   \n",
      "2                                Bouw,Reclame    01_HOOFD_020         muni-1   \n",
      "5                                Bouw,Reclame  01_HOOFD_065_0         muni-1   \n",
      "6                                Bouw,Reclame  01_HOOFD_110_0         muni-1   \n",
      "...                                       ...             ...            ...   \n",
      "262621  Bouw,Handelen in strijd met regels RO   01_HOOFD_809c         muni-5   \n",
      "262622  Bouw,Handelen in strijd met regels RO   01_HOOFD_101b         muni-5   \n",
      "262623  Bouw,Handelen in strijd met regels RO    01_HOOFD_811         muni-5   \n",
      "262624  Bouw,Handelen in strijd met regels RO    01_HOOFD_815         muni-5   \n",
      "262625  Bouw,Handelen in strijd met regels RO    01_HOOFD_809         muni-5   \n",
      "\n",
      "       ct:permit_type    at:phase tt:month  tt:day tt:weekday tt:ampm  \n",
      "0                Bouw  01_HOOFD_0      Apr  Day_11        Fri      AM  \n",
      "1                Bouw  01_HOOFD_0      Apr  Day_14        Mon      AM  \n",
      "2                Bouw  01_HOOFD_0      Apr  Day_14        Mon      AM  \n",
      "5                Bouw  01_HOOFD_0      Apr  Day_14        Mon      AM  \n",
      "6                Bouw  01_HOOFD_1      Apr  Day_14        Mon      AM  \n",
      "...               ...         ...      ...     ...        ...     ...  \n",
      "262621           Bouw  01_HOOFD_8      Mar  Day_12        Wed      AM  \n",
      "262622           Bouw  01_HOOFD_1      Mar  Day_12        Wed      AM  \n",
      "262623           Bouw  01_HOOFD_8      Mar  Day_12        Wed      AM  \n",
      "262624           Bouw  01_HOOFD_8      Mar  Day_12        Wed      AM  \n",
      "262625           Bouw  01_HOOFD_8      Mar  Day_12        Wed      AM  \n",
      "\n",
      "[193453 rows x 14 columns]\n"
     ]
    },
    {
     "name": "stderr",
     "output_type": "stream",
     "text": [
      "/var/folders/s_/tyyjfphn3wl93jz8bhkrh3x40000gn/T/ipykernel_85010/3091059455.py:6: DtypeWarning: Columns (21,26,27,28) have mixed types. Specify dtype option on import or set low_memory=False.\n",
      "  df = pd.read_csv(fn)[[\n"
     ]
    },
    {
     "name": "stdout",
     "output_type": "stream",
     "text": [
      "        case:concept:name                    activity label  org:resource  \\\n",
      "0                10009138  register submission date request       9264148   \n",
      "1                10009138              OLO messaging active       9264148   \n",
      "2                10009138         send confirmation receipt       9264148   \n",
      "5                10009138     create procedure confirmation       9264148   \n",
      "6                10009138      create subcases completeness       9264148   \n",
      "...                   ...                               ...           ...   \n",
      "262621            9998898       read publication date field        560600   \n",
      "262622            9998898     registration date publication        560600   \n",
      "262623            9998898      stop all running subcases 2b        560600   \n",
      "262624            9998898                phase case handled        560600   \n",
      "262625            9998898       read publication date field        560600   \n",
      "\n",
      "                  time:timestamp          ct:last_phase  \\\n",
      "0      2014-04-11 08:00:00+00:00  Beschikking verzonden   \n",
      "1      2014-04-14 08:00:00+00:00  Beschikking verzonden   \n",
      "2      2014-04-14 08:00:00+00:00  Beschikking verzonden   \n",
      "5      2014-04-14 08:00:00+00:00  Beschikking verzonden   \n",
      "6      2014-04-14 08:00:00+00:00  Beschikking verzonden   \n",
      "...                          ...                    ...   \n",
      "262621 2014-03-12 09:00:00+00:00       Zaak afgehandeld   \n",
      "262622 2014-03-12 09:00:00+00:00       Zaak afgehandeld   \n",
      "262623 2014-03-12 09:00:00+00:00       Zaak afgehandeld   \n",
      "262624 2014-03-12 09:00:00+00:00       Zaak afgehandeld   \n",
      "262625 2014-03-12 09:00:00+00:00       Zaak afgehandeld   \n",
      "\n",
      "                                   case_parts    concept:name r:municipality  \\\n",
      "0                                Bouw,Reclame    01_HOOFD_010         muni-1   \n",
      "1                                Bouw,Reclame    01_HOOFD_011         muni-1   \n",
      "2                                Bouw,Reclame    01_HOOFD_020         muni-1   \n",
      "5                                Bouw,Reclame  01_HOOFD_065_0         muni-1   \n",
      "6                                Bouw,Reclame  01_HOOFD_110_0         muni-1   \n",
      "...                                       ...             ...            ...   \n",
      "262621  Bouw,Handelen in strijd met regels RO   01_HOOFD_809c         muni-5   \n",
      "262622  Bouw,Handelen in strijd met regels RO   01_HOOFD_101b         muni-5   \n",
      "262623  Bouw,Handelen in strijd met regels RO    01_HOOFD_811         muni-5   \n",
      "262624  Bouw,Handelen in strijd met regels RO    01_HOOFD_815         muni-5   \n",
      "262625  Bouw,Handelen in strijd met regels RO    01_HOOFD_809         muni-5   \n",
      "\n",
      "       ct:permit_type    at:phase tt:month  tt:day tt:weekday tt:ampm  \n",
      "0                Bouw  01_HOOFD_0      Apr  Day_11        Fri      AM  \n",
      "1                Bouw  01_HOOFD_0      Apr  Day_14        Mon      AM  \n",
      "2                Bouw  01_HOOFD_0      Apr  Day_14        Mon      AM  \n",
      "5                Bouw  01_HOOFD_0      Apr  Day_14        Mon      AM  \n",
      "6                Bouw  01_HOOFD_1      Apr  Day_14        Mon      AM  \n",
      "...               ...         ...      ...     ...        ...     ...  \n",
      "262621           Bouw  01_HOOFD_8      Mar  Day_12        Wed      AM  \n",
      "262622           Bouw  01_HOOFD_1      Mar  Day_12        Wed      AM  \n",
      "262623           Bouw  01_HOOFD_8      Mar  Day_12        Wed      AM  \n",
      "262624           Bouw  01_HOOFD_8      Mar  Day_12        Wed      AM  \n",
      "262625           Bouw  01_HOOFD_8      Mar  Day_12        Wed      AM  \n",
      "\n",
      "[193453 rows x 14 columns]\n"
     ]
    }
   ],
   "source": [
    "# Load raw data & Preprocess DataFrame (enrich with derived attributes)\n",
    "logs = ['bpic15', 'bpic15_AEST']\n",
    "\n",
    "for log in logs:\n",
    "    fn = f'data/raw/{log}.csv'\n",
    "    df = pd.read_csv(fn)[[\n",
    "        'case:concept:name', 'activityNameEN', 'org:resource', 'time:timestamp',\n",
    "        'case:last_phase', 'case:parts', 'action_code', 'r:municipality'\n",
    "    ]]\n",
    "    # Delete all rows were case_id = 4020737 --> Author response: \"there is more than one value for attribute “ct:permit_type” \n",
    "    df = df[df['case:concept:name'] != 4020737]\n",
    "    df = df.rename(columns={\n",
    "        # Resource-related\n",
    "        \"activityNameEN\": \"activity label\",\n",
    "        # CT-related\n",
    "        'case:last_phase': 'ct:last_phase',\n",
    "        # AT-related\n",
    "        \"action_code\": \"concept:name\",\n",
    "        # Additional\n",
    "        'case:parts': 'case_parts',\n",
    "    })\n",
    "    # TODO: derive 'ct:permit_type', 'at:phase' --> specified by the author\n",
    "    df = df[~df['case_parts'].isna()]\n",
    "    df['ct:permit_type'] = df.apply(lambda row: 'Bouw' if 'Bouw' in str(\n",
    "        row['case_parts']).split(',') else 'Non Bouw', axis=1)\n",
    "\n",
    "    # only look at the main subprocess: \"01_HOOFD\"\n",
    "    df = df[~df['concept:name'].isna()]\n",
    "    df = df[df['concept:name'].str.startswith('01_HOOFD')]\n",
    "    df['at:phase'] = df['concept:name'].apply(lambda code: code[:10])\n",
    "\n",
    "    # Universal (on Disco outputs)\n",
    "    # derive and append TT related candidate attributes\n",
    "    df['time:timestamp'] = pd.to_datetime(\n",
    "        df['time:timestamp'], format='%Y-%m-%d %H:%M:%S.%f')\n",
    "    MONTHS = ['Jan', 'Feb', 'Mar', 'Apr', 'May', 'Jun',\n",
    "                'Jul', 'Aug', 'Sep', 'Oct', 'Nov', 'Dec']\n",
    "    df['tt:month'] = df['time:timestamp'].apply(lambda ts: MONTHS[ts.month-1])\n",
    "    df['tt:day'] = df['time:timestamp'].apply(\n",
    "        lambda ts: 'Day_{}'.format(ts.day))\n",
    "    WEEKDAYS = ['Mon', 'Tue', 'Wed', 'Thu', 'Fri', 'Sat', 'Sun']\n",
    "    df['tt:weekday'] = df['time:timestamp'].apply(\n",
    "        lambda ts: WEEKDAYS[ts.weekday()])\n",
    "    df['tt:ampm'] = df['time:timestamp'].apply(\n",
    "        lambda ts: 'AM' if ts.hour < 12 else 'PM')\n",
    "\n",
    "    print(df)\n",
    "    df.to_csv(f'data/processed/{log}.csv')"
   ]
  },
  {
   "attachments": {},
   "cell_type": "markdown",
   "metadata": {},
   "source": [
    "visualize time differences"
   ]
  },
  {
   "cell_type": "code",
   "execution_count": 34,
   "metadata": {},
   "outputs": [
    {
     "name": "stdout",
     "output_type": "stream",
     "text": [
      "[89137     0     0     0     0     0     0   455  7356 16224 17532 18103\n",
      " 10110  7211  9088  8326  6882  1976   687   347    19]\n",
      "21\n"
     ]
    },
    {
     "data": {
      "image/png": "[encoded data removed]",
      "text/plain": [
       "<Figure size 640x480 with 1 Axes>"
      ]
     },
     "metadata": {},
     "output_type": "display_data"
    }
   ],
   "source": [
    "import numpy as np\n",
    "import matplotlib.pyplot as plt\n",
    "\n",
    "# Create the data\n",
    "df_bpic15 = pd.read_csv('data/processed/bpic15.csv')\n",
    "df_bpic15_AEST = pd.read_csv('data/processed/bpic15_AEST.csv')\n",
    "df_paper = pd.read_csv('data/processed/bpic15_time_manipulated.csv')\n",
    "\n",
    "# get hours\n",
    "hours_bpic15 = df_bpic15['time:timestamp'].apply(lambda ts: ts[11:13])\n",
    "hours_bpic15_AEST = df_bpic15_AEST['time:timestamp'].apply(lambda ts: ts[11:13])\n",
    "hours_paper = df_paper['time:timestamp'].apply(lambda ts: ts[11:13])\n",
    "\n",
    "# get counts\n",
    "hours = np.arange(0, 24)\n",
    "counts_df_bpic15 = np.bincount(hours_bpic15)\n",
    "counts_df_bpic15_AEST = np.bincount(hours_bpic15_AEST)\n",
    "counts_df_paper = np.bincount(hours_paper)\n",
    "\n",
    "# Ensure that all counts arrays have the same length\n",
    "max_len = max(len(counts_df_bpic15), len(\n",
    "    counts_df_bpic15_AEST), len(counts_df_paper))\n",
    "counts_df_bpic15 = np.pad(\n",
    "    counts_df_bpic15, (0, max_len - len(counts_df_bpic15)), mode='constant')\n",
    "counts_df_bpic15_AEST = np.pad(\n",
    "    counts_df_bpic15_AEST, (0, max_len - len(counts_df_bpic15_AEST)), mode='constant')\n",
    "counts_df_paper = np.pad(\n",
    "    counts_df_paper, (0, max_len - len(counts_df_paper)), mode='constant')\n",
    "\n",
    "# Plot the bar chart\n",
    "fig, ax = plt.subplots()\n",
    "width = 0.25  # the width of the bars\n",
    "x = np.arange(len(hours))\n",
    "\n",
    "rects1 = ax.bar(x - width, counts_df_bpic15, width, label='bpic15')\n",
    "rects2 = ax.bar(x, counts_df_bpic15_AEST, width, label='bpic15_AEST')\n",
    "rects3 = ax.bar(x + width, counts_df_paper, width, label='paper')\n",
    "\n",
    "# Add some text for labels, title and custom x-axis tick labels, etc.\n",
    "ax.set_ylabel('Number of Events')\n",
    "ax.set_xlabel('Hour')\n",
    "ax.set_title('Events per Hour')\n",
    "ax.set_xticks(x)\n",
    "ax.set_xticklabels(hours)\n",
    "ax.legend()\n",
    "\n",
    "fig.tight_layout()\n",
    "\n",
    "plt.show()\n"
   ]
  },
  {
   "attachments": {},
   "cell_type": "markdown",
   "metadata": {},
   "source": [
    "train miners\n"
   ]
  },
  {
   "cell_type": "code",
   "execution_count": null,
   "metadata": {},
   "outputs": [],
   "source": [
    "from ordinor.execution_context.rule_based import ODTMiner\n",
    "\n",
    "df_bpic15 = pd.read_csv('data/processed/bpic15.csv')\n",
    "\n",
    "df_bpic15_AEST = pd.read_csv('data/processed/bpic15_AEST.csv')\n",
    "\n",
    "df_paper = pd.read_csv('data/processed/bpic15_time_manipulated.csv')\n",
    "df_paper = df_paper.rename(columns={\n",
    "    # Resource-related\n",
    "    \"activityNameEN\": \"activity label\",\n",
    "    \"Resource\": \"org:resource\",\n",
    "    # TT-related\n",
    "    \"Complete Timestamp\": \"time:timestamp\",\n",
    "    # CT-related\n",
    "    'case:last_phase': 'ct:last_phase',\n",
    "    # AT-related\n",
    "    \"Activity\": \"concept:name\",\n",
    "    # Additional\n",
    "    'case:parts': 'case_parts',\n",
    "    \"Case ID\": \"case:concept:name\"\n",
    "})\n",
    "\n",
    "spec = {\n",
    "    'type_def_attrs': {\n",
    "        # BPIC15\n",
    "        'ct:permit_type': {'attr_type': 'categorical', 'attr_dim': 'CT'},\n",
    "        'at:phase': {'attr_type': 'categorical', 'attr_dim': 'AT'},\n",
    "        'tt:weekday': {'attr_type': 'categorical', 'attr_dim': 'TT'},\n",
    "        'tt:ampm': {'attr_type': 'categorical', 'attr_dim': 'TT'},\n",
    "    }\n",
    "}\n",
    "\n",
    "\n",
    "miner_bpic15 = ODTMiner(df_bpic15, spec, max_height=12, trace_history=True)\n",
    "\n",
    "miner_bpic15_AEST = ODTMiner(df_bpic15_AEST, spec, max_height=12, trace_history=True)\n",
    "\n",
    "miner_paper = ODTMiner(df_paper, spec, max_height=12, trace_history=True)\n"
   ]
  },
  {
   "attachments": {},
   "cell_type": "markdown",
   "metadata": {},
   "source": [
    "visualize decision trees\n"
   ]
  },
  {
   "attachments": {},
   "cell_type": "markdown",
   "metadata": {},
   "source": [
    "apply execution contexts to event logs\n"
   ]
  },
  {
   "cell_type": "markdown",
   "metadata": {},
   "source": [
    "create visualizations\n"
   ]
  }
 ],
 "metadata": {
  "kernelspec": {
   "display_name": "ProcessMining",
   "language": "python",
   "name": "python3"
  },
  "language_info": {
   "codemirror_mode": {
    "name": "ipython",
    "version": 3
   },
   "file_extension": ".py",
   "mimetype": "text/x-python",
   "name": "python",
   "nbconvert_exporter": "python",
   "pygments_lexer": "ipython3",
   "version": "3.10.9"
  },
  "orig_nbformat": 4
 },
 "nbformat": 4,
 "nbformat_minor": 2
}
