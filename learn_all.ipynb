{
 "cells": [
  {
   "attachments": {},
   "cell_type": "markdown",
   "metadata": {},
   "source": [
    "which data sets are used?\n",
    "\n",
    "1. no time adjustment (rawTime_)\n",
    "2. time adjustment to fit his el (adjTime_)\n",
    "3. his event log"
   ]
  },
  {
   "attachments": {},
   "cell_type": "markdown",
   "metadata": {},
   "source": [
    "read base xes files"
   ]
  },
  {
   "cell_type": "code",
   "execution_count": 1,
   "metadata": {},
   "outputs": [
    {
     "name": "stderr",
     "output_type": "stream",
     "text": [
      "/opt/homebrew/Caskroom/miniconda/base/envs/ProcessMining/lib/python3.10/site-packages/pm4py/util/dt_parsing/parser.py:76: UserWarning: ISO8601 strings are not fully supported with strpfromiso for Python versions below 3.11\n",
      "  warnings.warn(\n"
     ]
    },
    {
     "data": {
      "application/vnd.jupyter.widget-view+json": {
       "model_id": "d8128af210674c279e768cdb50800d48",
       "version_major": 2,
       "version_minor": 0
      },
      "text/plain": [
       "parsing log, completed traces ::   0%|          | 0/1199 [00:00<?, ?it/s]"
      ]
     },
     "metadata": {},
     "output_type": "display_data"
    },
    {
     "data": {
      "application/vnd.jupyter.widget-view+json": {
       "model_id": "e0891f881b3c44de87026a8af5ed3f26",
       "version_major": 2,
       "version_minor": 0
      },
      "text/plain": [
       "parsing log, completed traces ::   0%|          | 0/832 [00:00<?, ?it/s]"
      ]
     },
     "metadata": {},
     "output_type": "display_data"
    },
    {
     "data": {
      "application/vnd.jupyter.widget-view+json": {
       "model_id": "13003ea608684783a591251ea80c8906",
       "version_major": 2,
       "version_minor": 0
      },
      "text/plain": [
       "parsing log, completed traces ::   0%|          | 0/1409 [00:00<?, ?it/s]"
      ]
     },
     "metadata": {},
     "output_type": "display_data"
    },
    {
     "data": {
      "application/vnd.jupyter.widget-view+json": {
       "model_id": "873b81b7a24e481592c52fe279a6384b",
       "version_major": 2,
       "version_minor": 0
      },
      "text/plain": [
       "parsing log, completed traces ::   0%|          | 0/1053 [00:00<?, ?it/s]"
      ]
     },
     "metadata": {},
     "output_type": "display_data"
    },
    {
     "data": {
      "application/vnd.jupyter.widget-view+json": {
       "model_id": "aab41b453bf54d29af5c33d0fe09f949",
       "version_major": 2,
       "version_minor": 0
      },
      "text/plain": [
       "parsing log, completed traces ::   0%|          | 0/1156 [00:00<?, ?it/s]"
      ]
     },
     "metadata": {},
     "output_type": "display_data"
    }
   ],
   "source": [
    "import pm4py\n",
    "import pandas as pd\n",
    "from pytz import timezone\n",
    "\n",
    "# read and combine all event logs\n",
    "dfs = []\n",
    "for i in range(1,2): #TODO: set to 1,6\n",
    "    log = pm4py.read_xes('base_xes_files/BPIC15_'+str(i)+'.xes')\n",
    "    log.head()\n",
    "    df = pm4py.convert_to_dataframe(log)\n",
    "    df[\"r:municipality\"] = f\"muni-{i}\"\n",
    "    dfs.append(df)\n",
    "combined_df = pd.concat(dfs, axis=0)\n"
   ]
  },
  {
   "cell_type": "code",
   "execution_count": 3,
   "metadata": {},
   "outputs": [],
   "source": [
    "# change time back to Amsterdam because pm4py automatically converts to UTC\n",
    "amsterdam_tz = timezone('Europe/Amsterdam')\n",
    "combined_df['time:timestamp'] = combined_df['time:timestamp'].dt.tz_convert(\n",
    "    amsterdam_tz)\n",
    "\n",
    "# save to file\n",
    "combined_df.to_csv(\"data/raw/bpic15.csv\", index=False)\n",
    "\n",
    "# change time to AEST (as in the paper)\n",
    "aest_tz = timezone('Australia/Sydney')\n",
    "combined_df['time:timestamp'] = combined_df['time:timestamp'].dt.tz_convert(\n",
    "    aest_tz)\n",
    "\n",
    "# save to file\n",
    "combined_df.to_csv(\"data/raw/bpic15_AEST.csv\", index=False)"
   ]
  },
  {
   "cell_type": "code",
   "execution_count": 5,
   "metadata": {},
   "outputs": [],
   "source": []
  },
  {
   "attachments": {},
   "cell_type": "markdown",
   "metadata": {},
   "source": [
    "add australian time\n",
    "\n",
    "AEST (Australian eastern standard time has no summer/winter time)\n"
   ]
  },
  {
   "cell_type": "code",
   "execution_count": 7,
   "metadata": {},
   "outputs": [],
   "source": [
    "def transformTimestamp(timeString):\n",
    "    # format_string = \"%Y-%m-%d %H:%M:%S%z\"\n",
    "    # newTimeStamp = datetime.strptime(timeString, format_string)\n",
    "    return pd.to_datetime(timeString)\n",
    "\n",
    "\n",
    "\n",
    "\n",
    "# create realistic local time (lost because pm4py automatically converts to UTC)\n",
    "time_columns = ['time:timestamp'] # only converting this one because others arent used\n",
    "\n",
    "# create australian time"
   ]
  },
  {
   "attachments": {},
   "cell_type": "markdown",
   "metadata": {},
   "source": [
    "visualize time differences"
   ]
  },
  {
   "attachments": {},
   "cell_type": "markdown",
   "metadata": {},
   "source": [
    "perform preprocessing steps\n"
   ]
  },
  {
   "attachments": {},
   "cell_type": "markdown",
   "metadata": {},
   "source": [
    "train miners\n"
   ]
  },
  {
   "attachments": {},
   "cell_type": "markdown",
   "metadata": {},
   "source": [
    "visualize decision trees\n"
   ]
  },
  {
   "attachments": {},
   "cell_type": "markdown",
   "metadata": {},
   "source": [
    "apply execution contexts to event logs\n"
   ]
  },
  {
   "cell_type": "markdown",
   "metadata": {},
   "source": [
    "create visualizations\n"
   ]
  }
 ],
 "metadata": {
  "kernelspec": {
   "display_name": "ProcessMining",
   "language": "python",
   "name": "python3"
  },
  "language_info": {
   "codemirror_mode": {
    "name": "ipython",
    "version": 3
   },
   "file_extension": ".py",
   "mimetype": "text/x-python",
   "name": "python",
   "nbconvert_exporter": "python",
   "pygments_lexer": "ipython3",
   "version": "3.10.9"
  },
  "orig_nbformat": 4
 },
 "nbformat": 4,
 "nbformat_minor": 2
}
