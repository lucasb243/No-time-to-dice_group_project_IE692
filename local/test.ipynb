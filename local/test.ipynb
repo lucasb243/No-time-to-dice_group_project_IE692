{
 "cells": [
  {
   "cell_type": "code",
   "execution_count": 1,
   "id": "3118b4ef-22a8-4799-8a39-132df3de02ed",
   "metadata": {},
   "outputs": [
    {
     "name": "stdout",
     "output_type": "stream",
     "text": [
      "   col1  col2  col3\n",
      "0     1     0     0\n",
      "1     2     1     0\n",
      "2\n"
     ]
    }
   ],
   "source": [
    "import pandas as pd\n",
    "\n",
    "df = pd.DataFrame.from_records([\n",
    "    {'col1': 1, 'col2': 0, 'col3': 0},\n",
    "    {'col1': 2, 'col2': 1, 'col3': 0},\n",
    "])\n",
    "print(df)\n",
    "\n",
    "print(sum(df.sum(axis=0) != 0))"
   ]
  },
  {
   "cell_type": "code",
   "execution_count": 2,
   "id": "94bfb78d-041e-4a42-9294-ce7ce3766e12",
   "metadata": {},
   "outputs": [
    {
     "name": "stdout",
     "output_type": "stream",
     "text": [
      "   col1  col2  col3\n",
      "0     1     0     0\n",
      "1     2     1     0\n",
      "   col1  col2  col3\n",
      "0     1     0     0\n",
      "1     2     1     0\n"
     ]
    }
   ],
   "source": [
    "dff = df\n",
    "\n",
    "mask = dff['col3'] > 5\n",
    "\n",
    "dff.loc[mask, 'col1'] += 3\n",
    "\n",
    "print(dff)\n",
    "\n",
    "print(df)"
   ]
  },
  {
   "cell_type": "code",
   "execution_count": 3,
   "id": "00836a59-3aad-4b2d-931e-ff7601799837",
   "metadata": {},
   "outputs": [
    {
     "name": "stdout",
     "output_type": "stream",
     "text": [
      "[0.66666667]\n",
      "[0.66666667]\n"
     ]
    }
   ],
   "source": [
    "import numpy as np\n",
    "\n",
    "a = np.array([1, 0, 0])\n",
    "b = np.array([0, 1, 0])\n",
    "c = np.array([1, 1, 0])\n",
    "from scipy.spatial.distance import pdist\n",
    "\n",
    "print(pdist(np.array([a, b]), metric='euclidean') ** 2 / 3)\n",
    "print(pdist(np.array([a, b]), metric='hamming'))"
   ]
  },
  {
   "cell_type": "code",
   "execution_count": 4,
   "id": "b720539a-de94-4473-a0a6-e9e29843b1e3",
   "metadata": {},
   "outputs": [
    {
     "ename": "ModuleNotFoundError",
     "evalue": "No module named 'seaborn'",
     "output_type": "error",
     "traceback": [
      "\u001b[1;31m---------------------------------------------------------------------------\u001b[0m",
      "\u001b[1;31mModuleNotFoundError\u001b[0m                       Traceback (most recent call last)",
      "Cell \u001b[1;32mIn[4], line 8\u001b[0m\n\u001b[0;32m      5\u001b[0m max_v \u001b[39m=\u001b[39m np\u001b[39m.\u001b[39mmax(indices)\n\u001b[0;32m      6\u001b[0m indices \u001b[39m=\u001b[39m np\u001b[39m.\u001b[39mround(((indices \u001b[39m-\u001b[39m min_v) \u001b[39m/\u001b[39m (max_v \u001b[39m-\u001b[39m min_v)) \u001b[39m*\u001b[39m \u001b[39m20\u001b[39m)\n\u001b[1;32m----> 8\u001b[0m \u001b[39mimport\u001b[39;00m \u001b[39mseaborn\u001b[39;00m \u001b[39mas\u001b[39;00m \u001b[39msns\u001b[39;00m\n\u001b[0;32m      9\u001b[0m sns\u001b[39m.\u001b[39mhistplot(indices, discrete\u001b[39m=\u001b[39m\u001b[39mTrue\u001b[39;00m)\n",
      "\u001b[1;31mModuleNotFoundError\u001b[0m: No module named 'seaborn'"
     ]
    }
   ],
   "source": [
    "values = list(range(1, 21, 1))\n",
    "\n",
    "indices = np.random.normal(size=1000000)\n",
    "min_v = np.min(indices)\n",
    "max_v = np.max(indices)\n",
    "indices = np.round(((indices - min_v) / (max_v - min_v)) * 20)\n",
    "\n",
    "import seaborn as sns\n",
    "sns.histplot(indices, discrete=True)\n"
   ]
  },
  {
   "cell_type": "code",
   "execution_count": null,
   "id": "f95be7af-2cde-4a41-bca8-5d87b612aaaa",
   "metadata": {},
   "outputs": [],
   "source": [
    "rg1 = range(5000, 15000)\n",
    "rg2 = range(15000, 20000)\n",
    "\n",
    "#rg1 + rg2"
   ]
  },
  {
   "cell_type": "code",
   "execution_count": null,
   "id": "dc2d9a76-4634-4609-9269-940399b17b1c",
   "metadata": {},
   "outputs": [
    {
     "ename": "ModuleNotFoundError",
     "evalue": "No module named 'ordinor.utils.set_utils'",
     "output_type": "error",
     "traceback": [
      "\u001b[1;31m---------------------------------------------------------------------------\u001b[0m",
      "\u001b[1;31mModuleNotFoundError\u001b[0m                       Traceback (most recent call last)",
      "Cell \u001b[1;32mIn[7], line 1\u001b[0m\n\u001b[1;32m----> 1\u001b[0m \u001b[39mfrom\u001b[39;00m \u001b[39mordinor\u001b[39;00m\u001b[39m.\u001b[39;00m\u001b[39mutils\u001b[39;00m\u001b[39m.\u001b[39;00m\u001b[39mset_utils\u001b[39;00m \u001b[39mimport\u001b[39;00m unique_k_partitions\n\u001b[0;32m      2\u001b[0m \u001b[39mfrom\u001b[39;00m \u001b[39mrandom\u001b[39;00m \u001b[39mimport\u001b[39;00m sample, shuffle\n\u001b[0;32m      4\u001b[0m \u001b[39mdef\u001b[39;00m \u001b[39mstirling_num_second\u001b[39m(len_l):\n\u001b[0;32m      5\u001b[0m     \u001b[39m# This is the Stirling number of the second kind, with k=2\u001b[39;00m\n",
      "\u001b[1;31mModuleNotFoundError\u001b[0m: No module named 'ordinor.utils.set_utils'"
     ]
    }
   ],
   "source": [
    "from ordinor.utils.set_utils import unique_k_partitions\n",
    "from random import sample, shuffle\n",
    "\n",
    "def stirling_num_second(len_l):\n",
    "    # This is the Stirling number of the second kind, with k=2\n",
    "    return 2 ** (len_l - 1) - 1\n",
    "\n",
    "l = list(range(20))\n",
    "\n",
    "indices = sorted(sample(range(stirling_num_second(len(l))), k=10))\n",
    "\n",
    "print(indices)\n",
    "\n",
    "j = 0\n",
    "for i, par in enumerate(unique_k_partitions(l, k=2)):\n",
    "    if j == len(indices):\n",
    "        break\n",
    "    \n",
    "    if i == indices[j]:\n",
    "        print(par)\n",
    "        j += 1\n",
    "    else:\n",
    "        pass\n"
   ]
  },
  {
   "cell_type": "code",
   "execution_count": null,
   "id": "5913435a-ebb4-4ce9-9f47-64c6793cf2b1",
   "metadata": {},
   "outputs": [
    {
     "name": "stdout",
     "output_type": "stream",
     "text": [
      "0    2\n",
      "1    1\n",
      "2    3\n",
      "3    3\n",
      "dtype: int64\n",
      "0    2\n",
      "dtype: int64\n",
      "1    1\n",
      "dtype: int64\n",
      "2    3\n",
      "3    3\n",
      "dtype: int64\n"
     ]
    }
   ],
   "source": [
    "s = pd.Series([2, 1, 3, 3])\n",
    "\n",
    "print(s)\n",
    "\n",
    "for co in s.unique():\n",
    "    print(s.loc[s == co])"
   ]
  },
  {
   "cell_type": "code",
   "execution_count": null,
   "id": "09aaf81d-b725-4711-842a-c5bd24b36ea4",
   "metadata": {},
   "outputs": [],
   "source": [
    "from itertools import count, combinations\n",
    "gen = count(start=0, step=1)"
   ]
  },
  {
   "cell_type": "code",
   "execution_count": null,
   "id": "c8e53d87-e476-49b4-81f8-9195b8e5e63b",
   "metadata": {},
   "outputs": [
    {
     "name": "stdout",
     "output_type": "stream",
     "text": [
      "0\n"
     ]
    }
   ],
   "source": [
    "print(next(gen))"
   ]
  },
  {
   "cell_type": "code",
   "execution_count": null,
   "id": "1b29dc31-769d-4e01-abc0-70b0b7f24165",
   "metadata": {},
   "outputs": [],
   "source": [
    "for xa, xb in combinations([1], r=2):\n",
    "    print(xa)\n",
    "    print(xb)"
   ]
  },
  {
   "cell_type": "code",
   "execution_count": null,
   "id": "af6da92d-532c-4bb0-b897-a3dbb09e17b3",
   "metadata": {},
   "outputs": [],
   "source": [
    "import matplotlib.pyplot as plt\n",
    "import numpy as np\n",
    "from scipy.stats import hmean\n",
    "\n",
    "def func_Z(x, y):\n",
    "    mean = (x + y) / 2\n",
    "    #mean = np.sqrt(x * y)\n",
    "    #mean = 2 * x * y / (x + y)\n",
    "    #mean = np.sqrt(0.5 * (x ** 2 + y ** 2))\n",
    "    return mean\n",
    "\n",
    "a = np.linspace(0.01, 1.0, 100)\n",
    "b = np.linspace(0.01, 1.0, 100)\n",
    "\n",
    "xs, ys = np.meshgrid(a, b, sparse=True)\n",
    "\n",
    "zs = func_Z(xs, ys)\n"
   ]
  },
  {
   "cell_type": "code",
   "execution_count": null,
   "id": "0d5c51f1-1a19-408c-aae1-0dc7e8618017",
   "metadata": {},
   "outputs": [
    {
     "data": {
      "image/png": "[encoded data removed]",
      "text/plain": [
       "<Figure size 640x480 with 2 Axes>"
      ]
     },
     "metadata": {},
     "output_type": "display_data"
    }
   ],
   "source": [
    "fig = plt.contourf(a, b, zs)\n",
    "plt.axis('scaled')\n",
    "plt.colorbar()\n",
    "plt.show()"
   ]
  },
  {
   "cell_type": "code",
   "execution_count": null,
   "id": "0fa0a067-1aea-448a-97c7-4c6078e19f54",
   "metadata": {},
   "outputs": [],
   "source": []
  }
 ],
 "metadata": {
  "kernelspec": {
   "display_name": "Python 3 (ipykernel)",
   "language": "python",
   "name": "python3"
  },
  "language_info": {
   "codemirror_mode": {
    "name": "ipython",
    "version": 3
   },
   "file_extension": ".py",
   "mimetype": "text/x-python",
   "name": "python",
   "nbconvert_exporter": "python",
   "pygments_lexer": "ipython3",
   "version": "3.10.9"
  }
 },
 "nbformat": 4,
 "nbformat_minor": 5
}
