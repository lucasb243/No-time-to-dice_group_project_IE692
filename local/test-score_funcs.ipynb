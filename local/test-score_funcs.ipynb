{
 "cells": [
  {
   "cell_type": "code",
   "execution_count": 1,
   "id": "c3690a1f-165e-457e-9bef-768b5b176949",
   "metadata": {},
   "outputs": [
    {
     "ename": "ModuleNotFoundError",
     "evalue": "No module named 'ordinor.execution_context.rule_based'",
     "output_type": "error",
     "traceback": [
      "\u001b[1;31m---------------------------------------------------------------------------\u001b[0m",
      "\u001b[1;31mModuleNotFoundError\u001b[0m                       Traceback (most recent call last)",
      "Cell \u001b[1;32mIn[1], line 2\u001b[0m\n\u001b[0;32m      1\u001b[0m \u001b[39mimport\u001b[39;00m \u001b[39mpandas\u001b[39;00m \u001b[39mas\u001b[39;00m \u001b[39mpd\u001b[39;00m\n\u001b[1;32m----> 2\u001b[0m \u001b[39mfrom\u001b[39;00m \u001b[39mordinor\u001b[39;00m\u001b[39m.\u001b[39;00m\u001b[39mexecution_context\u001b[39;00m\u001b[39m.\u001b[39;00m\u001b[39mrule_based\u001b[39;00m \u001b[39mimport\u001b[39;00m impurity\n\u001b[0;32m      4\u001b[0m s1 \u001b[39m=\u001b[39m pd\u001b[39m.\u001b[39mSeries([\u001b[39m1\u001b[39m, \u001b[39m1\u001b[39m, \u001b[39m2\u001b[39m, \u001b[39m2\u001b[39m, \u001b[39m2\u001b[39m])\n\u001b[0;32m      6\u001b[0m s2 \u001b[39m=\u001b[39m pd\u001b[39m.\u001b[39mSeries([\u001b[39m1\u001b[39m, \u001b[39m2\u001b[39m, \u001b[39m1\u001b[39m, \u001b[39m1\u001b[39m, \u001b[39m1\u001b[39m])\n",
      "File \u001b[1;32mc:\\Users\\I516663\\AppData\\Local\\Programs\\Python\\Python311\\Lib\\site-packages\\ordinor\\execution_context\\__init__.py:7\u001b[0m\n\u001b[0;32m      5\u001b[0m \u001b[39mfrom\u001b[39;00m \u001b[39m.\u001b[39;00m\u001b[39mdirect_attribute\u001b[39;00m \u001b[39mimport\u001b[39;00m ATonlyMiner, FullMiner\n\u001b[0;32m      6\u001b[0m \u001b[39mfrom\u001b[39;00m \u001b[39m.\u001b[39;00m\u001b[39mproxy\u001b[39;00m \u001b[39mimport\u001b[39;00m TraceClusteringFullMiner\n\u001b[1;32m----> 7\u001b[0m \u001b[39mfrom\u001b[39;00m \u001b[39m.\u001b[39;00m\u001b[39mrule_based\u001b[39;00m \u001b[39mimport\u001b[39;00m ODTMiner\n\u001b[0;32m      8\u001b[0m \u001b[39mfrom\u001b[39;00m \u001b[39m.\u001b[39;00m\u001b[39mrule_based\u001b[39;00m \u001b[39mimport\u001b[39;00m GreedySearchMiner, GreedyODTMiner, SASearchMiner\n\u001b[0;32m      9\u001b[0m \u001b[39mfrom\u001b[39;00m \u001b[39m.\u001b[39;00m\u001b[39mquality\u001b[39;00m \u001b[39mimport\u001b[39;00m impurity, dispersal\n",
      "\u001b[1;31mModuleNotFoundError\u001b[0m: No module named 'ordinor.execution_context.rule_based'"
     ]
    }
   ],
   "source": [
    "import pandas as pd\n",
    "from ordinor.execution_context.rule_based import impurity\n",
    "\n",
    "s1 = pd.Series([1, 1, 2, 2, 2])\n",
    "\n",
    "s2 = pd.Series([1, 2, 1, 1, 1])\n",
    "\n",
    "impurity(s1, s2)"
   ]
  },
  {
   "cell_type": "code",
   "execution_count": null,
   "id": "729e6aee-02aa-43dd-a65b-baecd63e30aa",
   "metadata": {},
   "outputs": [
    {
     "ename": "NameError",
     "evalue": "name 'pd' is not defined",
     "output_type": "error",
     "traceback": [
      "\u001b[0;31m---------------------------------------------------------------------------\u001b[0m",
      "\u001b[0;31mNameError\u001b[0m                                 Traceback (most recent call last)",
      "\u001b[0;32m/tmp/ipykernel_193693/772730857.py\u001b[0m in \u001b[0;36m<module>\u001b[0;34m\u001b[0m\n\u001b[1;32m      1\u001b[0m \u001b[0;32mfrom\u001b[0m \u001b[0mordinor\u001b[0m\u001b[0;34m.\u001b[0m\u001b[0mexecution_context\u001b[0m\u001b[0;34m.\u001b[0m\u001b[0mrule_based\u001b[0m \u001b[0;32mimport\u001b[0m \u001b[0mdispersal\u001b[0m\u001b[0;34m\u001b[0m\u001b[0;34m\u001b[0m\u001b[0m\n\u001b[1;32m      2\u001b[0m \u001b[0;34m\u001b[0m\u001b[0m\n\u001b[0;32m----> 3\u001b[0;31m \u001b[0ms_ct\u001b[0m \u001b[0;34m=\u001b[0m \u001b[0mpd\u001b[0m\u001b[0;34m.\u001b[0m\u001b[0mSeries\u001b[0m\u001b[0;34m(\u001b[0m\u001b[0;34m[\u001b[0m\u001b[0;36m1\u001b[0m\u001b[0;34m,\u001b[0m \u001b[0;36m1\u001b[0m\u001b[0;34m,\u001b[0m \u001b[0;36m2\u001b[0m\u001b[0;34m,\u001b[0m \u001b[0;36m2\u001b[0m\u001b[0;34m]\u001b[0m\u001b[0;34m)\u001b[0m\u001b[0;34m\u001b[0m\u001b[0;34m\u001b[0m\u001b[0m\n\u001b[0m\u001b[1;32m      4\u001b[0m \u001b[0;34m\u001b[0m\u001b[0m\n\u001b[1;32m      5\u001b[0m \u001b[0ms_at\u001b[0m \u001b[0;34m=\u001b[0m \u001b[0mpd\u001b[0m\u001b[0;34m.\u001b[0m\u001b[0mSeries\u001b[0m\u001b[0;34m(\u001b[0m\u001b[0;34m[\u001b[0m\u001b[0;36m1\u001b[0m\u001b[0;34m,\u001b[0m \u001b[0;36m1\u001b[0m\u001b[0;34m,\u001b[0m \u001b[0;36m1\u001b[0m\u001b[0;34m,\u001b[0m \u001b[0;36m1\u001b[0m\u001b[0;34m]\u001b[0m\u001b[0;34m)\u001b[0m\u001b[0;34m\u001b[0m\u001b[0;34m\u001b[0m\u001b[0m\n",
      "\u001b[0;31mNameError\u001b[0m: name 'pd' is not defined"
     ]
    }
   ],
   "source": [
    "from ordinor.execution_context.rule_based import dispersal\n",
    "\n",
    "s_ct = pd.Series([1, 1, 2, 2])\n",
    "\n",
    "s_at = pd.Series([1, 1, 1, 1])\n",
    "\n",
    "s_tt = None\n",
    "\n",
    "s_r = pd.Series([1, 1, 1, 1])\n",
    "\n",
    "dispersal(s_ct, s_at, s_tt, s_r)"
   ]
  },
  {
   "cell_type": "code",
   "execution_count": null,
   "id": "ed99ecf9-d997-4dd5-86c6-1df45730d0f5",
   "metadata": {},
   "outputs": [
    {
     "data": {
      "text/plain": [
       "0.3333333333333333"
      ]
     },
     "execution_count": 5,
     "metadata": {},
     "output_type": "execute_result"
    }
   ],
   "source": [
    "import pandas as pd\n",
    "from scipy.spatial.distance import hamming\n",
    "\n",
    "s_ct = pd.Series([1, 1, 2])\n",
    "\n",
    "s_at = pd.Series([1, 1, 1])\n",
    "\n",
    "hamming(s_ct, s_at)"
   ]
  },
  {
   "cell_type": "code",
   "execution_count": null,
   "id": "27ba0045-c36b-435c-b2e8-2cdd563965ce",
   "metadata": {},
   "outputs": [],
   "source": []
  }
 ],
 "metadata": {
  "kernelspec": {
   "display_name": "Python 3 (ipykernel)",
   "language": "python",
   "name": "python3"
  },
  "language_info": {
   "codemirror_mode": {
    "name": "ipython",
    "version": 3
   },
   "file_extension": ".py",
   "mimetype": "text/x-python",
   "name": "python",
   "nbconvert_exporter": "python",
   "pygments_lexer": "ipython3",
   "version": "3.11.2"
  }
 },
 "nbformat": 4,
 "nbformat_minor": 5
}
