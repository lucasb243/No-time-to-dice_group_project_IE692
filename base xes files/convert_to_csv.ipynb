{
 "cells": [
  {
   "cell_type": "code",
   "execution_count": 48,
   "metadata": {},
   "outputs": [],
   "source": [
    "import pandas as pd\n",
    "import pm4py"
   ]
  },
  {
   "cell_type": "code",
   "execution_count": 49,
   "metadata": {},
   "outputs": [
    {
     "name": "stderr",
     "output_type": "stream",
     "text": [
      "parsing log, completed traces :: 100%|██████████| 1199/1199 [00:05<00:00, 208.73it/s]\n",
      "parsing log, completed traces :: 100%|██████████| 832/832 [00:04<00:00, 196.48it/s]\n",
      "parsing log, completed traces :: 100%|██████████| 1409/1409 [00:06<00:00, 224.05it/s]\n",
      "parsing log, completed traces :: 100%|██████████| 1053/1053 [00:04<00:00, 219.76it/s]\n",
      "parsing log, completed traces :: 100%|██████████| 1156/1156 [00:05<00:00, 212.35it/s]\n"
     ]
    }
   ],
   "source": [
    "log1 = pm4py.read_xes('BPIC15_1.xes')\n",
    "log2 = pm4py.read_xes('BPIC15_2.xes')\n",
    "log3 = pm4py.read_xes('BPIC15_3.xes')\n",
    "log4 = pm4py.read_xes('BPIC15_4.xes')\n",
    "log5 = pm4py.read_xes('BPIC15_5.xes')\n",
    "df1 = pm4py.convert_to_dataframe(log1)\n",
    "df2 = pm4py.convert_to_dataframe(log2)\n",
    "df3 = pm4py.convert_to_dataframe(log3)\n",
    "df4 = pm4py.convert_to_dataframe(log4)\n",
    "df5 = pm4py.convert_to_dataframe(log5)\n"
   ]
  },
  {
   "cell_type": "code",
   "execution_count": 50,
   "metadata": {},
   "outputs": [],
   "source": [
    "df1[\"r:municipality\"] = \"muni-1\"\n",
    "df2[\"r:municipality\"] = \"muni-2\"\n",
    "df3[\"r:municipality\"] = \"muni-3\"\n",
    "df4[\"r:municipality\"] = \"muni-4\"\n",
    "df5[\"r:municipality\"] = \"muni-5\""
   ]
  },
  {
   "cell_type": "code",
   "execution_count": 51,
   "metadata": {},
   "outputs": [
    {
     "data": {
      "text/html": [
       "<div>\n",
       "<style scoped>\n",
       "    .dataframe tbody tr th:only-of-type {\n",
       "        vertical-align: middle;\n",
       "    }\n",
       "\n",
       "    .dataframe tbody tr th {\n",
       "        vertical-align: top;\n",
       "    }\n",
       "\n",
       "    .dataframe thead th {\n",
       "        text-align: right;\n",
       "    }\n",
       "</style>\n",
       "<table border=\"1\" class=\"dataframe\">\n",
       "  <thead>\n",
       "    <tr style=\"text-align: right;\">\n",
       "      <th></th>\n",
       "      <th>question</th>\n",
       "      <th>dateFinished</th>\n",
       "      <th>dueDate</th>\n",
       "      <th>action_code</th>\n",
       "      <th>activityNameEN</th>\n",
       "      <th>planned</th>\n",
       "      <th>time:timestamp</th>\n",
       "      <th>monitoringResource</th>\n",
       "      <th>org:resource</th>\n",
       "      <th>activityNameNL</th>\n",
       "      <th>...</th>\n",
       "      <th>case:termName</th>\n",
       "      <th>case:endDatePlanned</th>\n",
       "      <th>case:startDate</th>\n",
       "      <th>case:requestComplete</th>\n",
       "      <th>case:IDofConceptCase</th>\n",
       "      <th>case:landRegisterID</th>\n",
       "      <th>case:caseProcedure</th>\n",
       "      <th>case:Includes_subCases</th>\n",
       "      <th>dateStop</th>\n",
       "      <th>R:municipality</th>\n",
       "    </tr>\n",
       "  </thead>\n",
       "  <tbody>\n",
       "    <tr>\n",
       "      <th>0</th>\n",
       "      <td>EMPTY</td>\n",
       "      <td>2014-04-14 00:00:00+00:00</td>\n",
       "      <td>2014-04-17 07:30:39+00:00</td>\n",
       "      <td>01_HOOFD_010</td>\n",
       "      <td>register submission date request</td>\n",
       "      <td>2014-04-15 07:30:39+00:00</td>\n",
       "      <td>2014-04-10 22:00:00+00:00</td>\n",
       "      <td>2670601</td>\n",
       "      <td>9264148</td>\n",
       "      <td>registratie datum binnenkomst aanvraag</td>\n",
       "      <td>...</td>\n",
       "      <td>Termijn bezwaar en beroep 1</td>\n",
       "      <td>2014-07-17 22:00:00+00:00</td>\n",
       "      <td>2014-04-10 22:00:00+00:00</td>\n",
       "      <td>TRUE</td>\n",
       "      <td>10009280</td>\n",
       "      <td>NaN</td>\n",
       "      <td>NaN</td>\n",
       "      <td>NaN</td>\n",
       "      <td>NaT</td>\n",
       "      <td>muni-1</td>\n",
       "    </tr>\n",
       "    <tr>\n",
       "      <th>1</th>\n",
       "      <td>False</td>\n",
       "      <td>2014-04-14 00:00:00+00:00</td>\n",
       "      <td>NaT</td>\n",
       "      <td>01_HOOFD_011</td>\n",
       "      <td>OLO messaging active</td>\n",
       "      <td>2014-04-15 07:34:03+00:00</td>\n",
       "      <td>2014-04-13 22:00:00+00:00</td>\n",
       "      <td>2670601</td>\n",
       "      <td>9264148</td>\n",
       "      <td>OLO berichtenverkeer actief</td>\n",
       "      <td>...</td>\n",
       "      <td>Termijn bezwaar en beroep 1</td>\n",
       "      <td>2014-07-17 22:00:00+00:00</td>\n",
       "      <td>2014-04-10 22:00:00+00:00</td>\n",
       "      <td>TRUE</td>\n",
       "      <td>10009280</td>\n",
       "      <td>NaN</td>\n",
       "      <td>NaN</td>\n",
       "      <td>NaN</td>\n",
       "      <td>NaT</td>\n",
       "      <td>muni-1</td>\n",
       "    </tr>\n",
       "    <tr>\n",
       "      <th>2</th>\n",
       "      <td>True</td>\n",
       "      <td>2014-04-14 00:00:00+00:00</td>\n",
       "      <td>NaT</td>\n",
       "      <td>01_HOOFD_020</td>\n",
       "      <td>send confirmation receipt</td>\n",
       "      <td>2014-04-15 07:34:03+00:00</td>\n",
       "      <td>2014-04-13 22:00:00+00:00</td>\n",
       "      <td>2670601</td>\n",
       "      <td>9264148</td>\n",
       "      <td>versturen ontvangstbevestiging</td>\n",
       "      <td>...</td>\n",
       "      <td>Termijn bezwaar en beroep 1</td>\n",
       "      <td>2014-07-17 22:00:00+00:00</td>\n",
       "      <td>2014-04-10 22:00:00+00:00</td>\n",
       "      <td>TRUE</td>\n",
       "      <td>10009280</td>\n",
       "      <td>NaN</td>\n",
       "      <td>NaN</td>\n",
       "      <td>NaN</td>\n",
       "      <td>NaT</td>\n",
       "      <td>muni-1</td>\n",
       "    </tr>\n",
       "    <tr>\n",
       "      <th>3</th>\n",
       "      <td>False</td>\n",
       "      <td>2014-04-14 00:00:00+00:00</td>\n",
       "      <td>2014-04-21 07:37:17+00:00</td>\n",
       "      <td>02_DRZ_010</td>\n",
       "      <td>forward to the competent authority</td>\n",
       "      <td>2014-04-15 07:37:17+00:00</td>\n",
       "      <td>2014-04-13 22:00:00+00:00</td>\n",
       "      <td>2670601</td>\n",
       "      <td>9264148</td>\n",
       "      <td>doorsturen aan bevoegd gezag</td>\n",
       "      <td>...</td>\n",
       "      <td>Termijn bezwaar en beroep 1</td>\n",
       "      <td>2014-07-17 22:00:00+00:00</td>\n",
       "      <td>2014-04-10 22:00:00+00:00</td>\n",
       "      <td>TRUE</td>\n",
       "      <td>10009280</td>\n",
       "      <td>NaN</td>\n",
       "      <td>NaN</td>\n",
       "      <td>NaN</td>\n",
       "      <td>NaT</td>\n",
       "      <td>muni-1</td>\n",
       "    </tr>\n",
       "    <tr>\n",
       "      <th>4</th>\n",
       "      <td>True</td>\n",
       "      <td>2014-04-14 00:00:00+00:00</td>\n",
       "      <td>NaT</td>\n",
       "      <td>04_BPT_005</td>\n",
       "      <td>regular procedure without MER</td>\n",
       "      <td>2014-04-15 07:37:22+00:00</td>\n",
       "      <td>2014-04-13 22:00:00+00:00</td>\n",
       "      <td>2670601</td>\n",
       "      <td>9264148</td>\n",
       "      <td>reguliere procedure zonder MER</td>\n",
       "      <td>...</td>\n",
       "      <td>Termijn bezwaar en beroep 1</td>\n",
       "      <td>2014-07-17 22:00:00+00:00</td>\n",
       "      <td>2014-04-10 22:00:00+00:00</td>\n",
       "      <td>TRUE</td>\n",
       "      <td>10009280</td>\n",
       "      <td>NaN</td>\n",
       "      <td>NaN</td>\n",
       "      <td>NaN</td>\n",
       "      <td>NaT</td>\n",
       "      <td>muni-1</td>\n",
       "    </tr>\n",
       "  </tbody>\n",
       "</table>\n",
       "<p>5 rows × 30 columns</p>\n",
       "</div>"
      ],
      "text/plain": [
       "  question              dateFinished                   dueDate   action_code  \\\n",
       "0    EMPTY 2014-04-14 00:00:00+00:00 2014-04-17 07:30:39+00:00  01_HOOFD_010   \n",
       "1    False 2014-04-14 00:00:00+00:00                       NaT  01_HOOFD_011   \n",
       "2     True 2014-04-14 00:00:00+00:00                       NaT  01_HOOFD_020   \n",
       "3    False 2014-04-14 00:00:00+00:00 2014-04-21 07:37:17+00:00    02_DRZ_010   \n",
       "4     True 2014-04-14 00:00:00+00:00                       NaT    04_BPT_005   \n",
       "\n",
       "                       activityNameEN                   planned  \\\n",
       "0    register submission date request 2014-04-15 07:30:39+00:00   \n",
       "1                OLO messaging active 2014-04-15 07:34:03+00:00   \n",
       "2           send confirmation receipt 2014-04-15 07:34:03+00:00   \n",
       "3  forward to the competent authority 2014-04-15 07:37:17+00:00   \n",
       "4       regular procedure without MER 2014-04-15 07:37:22+00:00   \n",
       "\n",
       "             time:timestamp monitoringResource org:resource  \\\n",
       "0 2014-04-10 22:00:00+00:00            2670601      9264148   \n",
       "1 2014-04-13 22:00:00+00:00            2670601      9264148   \n",
       "2 2014-04-13 22:00:00+00:00            2670601      9264148   \n",
       "3 2014-04-13 22:00:00+00:00            2670601      9264148   \n",
       "4 2014-04-13 22:00:00+00:00            2670601      9264148   \n",
       "\n",
       "                           activityNameNL  ...                case:termName  \\\n",
       "0  registratie datum binnenkomst aanvraag  ...  Termijn bezwaar en beroep 1   \n",
       "1             OLO berichtenverkeer actief  ...  Termijn bezwaar en beroep 1   \n",
       "2          versturen ontvangstbevestiging  ...  Termijn bezwaar en beroep 1   \n",
       "3            doorsturen aan bevoegd gezag  ...  Termijn bezwaar en beroep 1   \n",
       "4          reguliere procedure zonder MER  ...  Termijn bezwaar en beroep 1   \n",
       "\n",
       "        case:endDatePlanned            case:startDate case:requestComplete  \\\n",
       "0 2014-07-17 22:00:00+00:00 2014-04-10 22:00:00+00:00                 TRUE   \n",
       "1 2014-07-17 22:00:00+00:00 2014-04-10 22:00:00+00:00                 TRUE   \n",
       "2 2014-07-17 22:00:00+00:00 2014-04-10 22:00:00+00:00                 TRUE   \n",
       "3 2014-07-17 22:00:00+00:00 2014-04-10 22:00:00+00:00                 TRUE   \n",
       "4 2014-07-17 22:00:00+00:00 2014-04-10 22:00:00+00:00                 TRUE   \n",
       "\n",
       "   case:IDofConceptCase case:landRegisterID case:caseProcedure  \\\n",
       "0              10009280                 NaN                NaN   \n",
       "1              10009280                 NaN                NaN   \n",
       "2              10009280                 NaN                NaN   \n",
       "3              10009280                 NaN                NaN   \n",
       "4              10009280                 NaN                NaN   \n",
       "\n",
       "  case:Includes_subCases dateStop R:municipality  \n",
       "0                    NaN      NaT         muni-1  \n",
       "1                    NaN      NaT         muni-1  \n",
       "2                    NaN      NaT         muni-1  \n",
       "3                    NaN      NaT         muni-1  \n",
       "4                    NaN      NaT         muni-1  \n",
       "\n",
       "[5 rows x 30 columns]"
      ]
     },
     "execution_count": 51,
     "metadata": {},
     "output_type": "execute_result"
    }
   ],
   "source": [
    "df1.head()"
   ]
  },
  {
   "cell_type": "code",
   "execution_count": 52,
   "metadata": {},
   "outputs": [],
   "source": [
    "combined_df = pd.concat([df1, df2, df3, df4, df5], axis=0)"
   ]
  },
  {
   "cell_type": "code",
   "execution_count": 54,
   "metadata": {},
   "outputs": [
    {
     "data": {
      "text/plain": [
       "0    muni-1\n",
       "1    muni-1\n",
       "2    muni-1\n",
       "3    muni-1\n",
       "4    muni-1\n",
       "Name: r:municipality, dtype: object"
      ]
     },
     "execution_count": 54,
     "metadata": {},
     "output_type": "execute_result"
    }
   ],
   "source": [
    "#show combined_df specific column\n",
    "combined_df[\"r:municipality\"].head()\n"
   ]
  },
  {
   "cell_type": "code",
   "execution_count": 55,
   "metadata": {},
   "outputs": [
    {
     "name": "stdout",
     "output_type": "stream",
     "text": [
      "250838\n"
     ]
    }
   ],
   "source": [
    "#combined_df.head()\n",
    "print(combined_df.shape[0]); #return row count"
   ]
  },
  {
   "cell_type": "code",
   "execution_count": 56,
   "metadata": {},
   "outputs": [
    {
     "name": "stdout",
     "output_type": "stream",
     "text": [
      "193453\n"
     ]
    }
   ],
   "source": [
    "log_fromdude = pd.read_csv('../bpic15_amended_typed.csv')\n",
    "print(log_fromdude.shape[0]); #return row count"
   ]
  }
 ],
 "metadata": {
  "kernelspec": {
   "display_name": "Python 3",
   "language": "python",
   "name": "python3"
  },
  "language_info": {
   "codemirror_mode": {
    "name": "ipython",
    "version": 3
   },
   "file_extension": ".py",
   "mimetype": "text/x-python",
   "name": "python",
   "nbconvert_exporter": "python",
   "pygments_lexer": "ipython3",
   "version": "3.11.2"
  },
  "orig_nbformat": 4
 },
 "nbformat": 4,
 "nbformat_minor": 2
}
