{
 "cells": [
  {
   "cell_type": "code",
   "execution_count": 8,
   "id": "410f605b-0939-438a-8475-a6d42edad204",
   "metadata": {},
   "outputs": [],
   "source": [
    "import pandas as pd"
   ]
  },
  {
   "cell_type": "code",
   "execution_count": 10,
   "id": "e5693461-583f-43c0-acab-519b55452f54",
   "metadata": {},
   "outputs": [
    {
     "name": "stderr",
     "output_type": "stream",
     "text": [
      "C:\\Users\\I516663\\AppData\\Local\\Temp\\ipykernel_17248\\1286951666.py:14: DtypeWarning: Columns (22,27,28,29) have mixed types. Specify dtype option on import or set low_memory=False.\n",
      "  df = pd.read_csv(fn)[[\n"
     ]
    },
    {
     "ename": "KeyError",
     "evalue": "\"['case:id', 'activity', 'resource', 'complete:timestamp'] not in index\"",
     "output_type": "error",
     "traceback": [
      "\u001b[1;31m---------------------------------------------------------------------------\u001b[0m",
      "\u001b[1;31mKeyError\u001b[0m                                  Traceback (most recent call last)",
      "Cell \u001b[1;32mIn[10], line 14\u001b[0m\n\u001b[0;32m     11\u001b[0m \u001b[39mif\u001b[39;00m preprocess:\n\u001b[0;32m     13\u001b[0m     \u001b[39mif\u001b[39;00m log \u001b[39m==\u001b[39m \u001b[39m'\u001b[39m\u001b[39mbpic15\u001b[39m\u001b[39m'\u001b[39m:\n\u001b[1;32m---> 14\u001b[0m         df \u001b[39m=\u001b[39m pd\u001b[39m.\u001b[39;49mread_csv(fn)[[\n\u001b[0;32m     15\u001b[0m             \u001b[39m'\u001b[39;49m\u001b[39mcase:id\u001b[39;49m\u001b[39m'\u001b[39;49m, \u001b[39m'\u001b[39;49m\u001b[39mactivity\u001b[39;49m\u001b[39m'\u001b[39;49m, \u001b[39m'\u001b[39;49m\u001b[39mresource\u001b[39;49m\u001b[39m'\u001b[39;49m, \u001b[39m'\u001b[39;49m\u001b[39mcomplete:timestamp\u001b[39;49m\u001b[39m'\u001b[39;49m,\n\u001b[0;32m     16\u001b[0m             \u001b[39m'\u001b[39;49m\u001b[39mcase:last_phase\u001b[39;49m\u001b[39m'\u001b[39;49m, \u001b[39m'\u001b[39;49m\u001b[39mcase:parts\u001b[39;49m\u001b[39m'\u001b[39;49m, \u001b[39m'\u001b[39;49m\u001b[39maction_code\u001b[39;49m\u001b[39m'\u001b[39;49m, \u001b[39m'\u001b[39;49m\u001b[39mr:municipality\u001b[39;49m\u001b[39m'\u001b[39;49m\n\u001b[0;32m     17\u001b[0m         ]]\n\u001b[0;32m     18\u001b[0m         df \u001b[39m=\u001b[39m df\u001b[39m.\u001b[39mrename(columns\u001b[39m=\u001b[39m{\n\u001b[0;32m     19\u001b[0m             \u001b[39m# Resource-related\u001b[39;00m\n\u001b[0;32m     20\u001b[0m             \u001b[39m'\u001b[39m\u001b[39mmunicipality\u001b[39m\u001b[39m'\u001b[39m: \u001b[39m'\u001b[39m\u001b[39mr:municipality\u001b[39m\u001b[39m'\u001b[39m,\n\u001b[1;32m   (...)\u001b[0m\n\u001b[0;32m     23\u001b[0m             \u001b[39m# AT-related\u001b[39;00m\n\u001b[0;32m     24\u001b[0m         })\n\u001b[0;32m     25\u001b[0m         df \u001b[39m=\u001b[39m df\u001b[39m.\u001b[39mrename(columns\u001b[39m=\u001b[39m{\n\u001b[0;32m     26\u001b[0m             \u001b[39m'\u001b[39m\u001b[39m(case) parts\u001b[39m\u001b[39m'\u001b[39m: \u001b[39m'\u001b[39m\u001b[39mcase_parts\u001b[39m\u001b[39m'\u001b[39m\n\u001b[0;32m     27\u001b[0m         })\n",
      "File \u001b[1;32m~\\AppData\\Local\\Packages\\PythonSoftwareFoundation.Python.3.11_qbz5n2kfra8p0\\LocalCache\\local-packages\\Python311\\site-packages\\pandas\\core\\frame.py:3813\u001b[0m, in \u001b[0;36mDataFrame.__getitem__\u001b[1;34m(self, key)\u001b[0m\n\u001b[0;32m   3811\u001b[0m     \u001b[39mif\u001b[39;00m is_iterator(key):\n\u001b[0;32m   3812\u001b[0m         key \u001b[39m=\u001b[39m \u001b[39mlist\u001b[39m(key)\n\u001b[1;32m-> 3813\u001b[0m     indexer \u001b[39m=\u001b[39m \u001b[39mself\u001b[39;49m\u001b[39m.\u001b[39;49mcolumns\u001b[39m.\u001b[39;49m_get_indexer_strict(key, \u001b[39m\"\u001b[39;49m\u001b[39mcolumns\u001b[39;49m\u001b[39m\"\u001b[39;49m)[\u001b[39m1\u001b[39m]\n\u001b[0;32m   3815\u001b[0m \u001b[39m# take() does not accept boolean indexers\u001b[39;00m\n\u001b[0;32m   3816\u001b[0m \u001b[39mif\u001b[39;00m \u001b[39mgetattr\u001b[39m(indexer, \u001b[39m\"\u001b[39m\u001b[39mdtype\u001b[39m\u001b[39m\"\u001b[39m, \u001b[39mNone\u001b[39;00m) \u001b[39m==\u001b[39m \u001b[39mbool\u001b[39m:\n",
      "File \u001b[1;32m~\\AppData\\Local\\Packages\\PythonSoftwareFoundation.Python.3.11_qbz5n2kfra8p0\\LocalCache\\local-packages\\Python311\\site-packages\\pandas\\core\\indexes\\base.py:6070\u001b[0m, in \u001b[0;36mIndex._get_indexer_strict\u001b[1;34m(self, key, axis_name)\u001b[0m\n\u001b[0;32m   6067\u001b[0m \u001b[39melse\u001b[39;00m:\n\u001b[0;32m   6068\u001b[0m     keyarr, indexer, new_indexer \u001b[39m=\u001b[39m \u001b[39mself\u001b[39m\u001b[39m.\u001b[39m_reindex_non_unique(keyarr)\n\u001b[1;32m-> 6070\u001b[0m \u001b[39mself\u001b[39;49m\u001b[39m.\u001b[39;49m_raise_if_missing(keyarr, indexer, axis_name)\n\u001b[0;32m   6072\u001b[0m keyarr \u001b[39m=\u001b[39m \u001b[39mself\u001b[39m\u001b[39m.\u001b[39mtake(indexer)\n\u001b[0;32m   6073\u001b[0m \u001b[39mif\u001b[39;00m \u001b[39misinstance\u001b[39m(key, Index):\n\u001b[0;32m   6074\u001b[0m     \u001b[39m# GH 42790 - Preserve name from an Index\u001b[39;00m\n",
      "File \u001b[1;32m~\\AppData\\Local\\Packages\\PythonSoftwareFoundation.Python.3.11_qbz5n2kfra8p0\\LocalCache\\local-packages\\Python311\\site-packages\\pandas\\core\\indexes\\base.py:6133\u001b[0m, in \u001b[0;36mIndex._raise_if_missing\u001b[1;34m(self, key, indexer, axis_name)\u001b[0m\n\u001b[0;32m   6130\u001b[0m     \u001b[39mraise\u001b[39;00m \u001b[39mKeyError\u001b[39;00m(\u001b[39mf\u001b[39m\u001b[39m\"\u001b[39m\u001b[39mNone of [\u001b[39m\u001b[39m{\u001b[39;00mkey\u001b[39m}\u001b[39;00m\u001b[39m] are in the [\u001b[39m\u001b[39m{\u001b[39;00maxis_name\u001b[39m}\u001b[39;00m\u001b[39m]\u001b[39m\u001b[39m\"\u001b[39m)\n\u001b[0;32m   6132\u001b[0m not_found \u001b[39m=\u001b[39m \u001b[39mlist\u001b[39m(ensure_index(key)[missing_mask\u001b[39m.\u001b[39mnonzero()[\u001b[39m0\u001b[39m]]\u001b[39m.\u001b[39munique())\n\u001b[1;32m-> 6133\u001b[0m \u001b[39mraise\u001b[39;00m \u001b[39mKeyError\u001b[39;00m(\u001b[39mf\u001b[39m\u001b[39m\"\u001b[39m\u001b[39m{\u001b[39;00mnot_found\u001b[39m}\u001b[39;00m\u001b[39m not in index\u001b[39m\u001b[39m\"\u001b[39m)\n",
      "\u001b[1;31mKeyError\u001b[0m: \"['case:id', 'activity', 'resource', 'complete:timestamp'] not in index\""
     ]
    }
   ],
   "source": [
    "# Load raw data & Preprocess DataFrame (enrich with derived attributes)\n",
    "log = 'bpic15'\n",
    "\n",
    "preprocess = True\n",
    "\n",
    "if preprocess:\n",
    "    fn = f'../data/raw/{log}.csv'\n",
    "else:\n",
    "    fn = f'../data/processed/{log}.csv'\n",
    "\n",
    "if preprocess:\n",
    "\n",
    "    if log == 'bpic15':\n",
    "        df = pd.read_csv(fn)[[\n",
    "            'case:IDofConceptCase', 'activity', 'resource', 'time:timestamp',\n",
    "            'case:last_phase', 'case:parts', 'action_code', 'r:municipality'\n",
    "        ]]\n",
    "        df = df.rename(columns={\n",
    "            # Resource-related\n",
    "            'municipality': 'r:municipality',\n",
    "            # CT-related\n",
    "            '(case) last_phase': 'ct:last_phase', \n",
    "            # AT-related\n",
    "        })\n",
    "        df = df.rename(columns={\n",
    "            '(case) parts': 'case_parts'\n",
    "        })\n",
    "        # TODO: derive 'ct:permit_type', 'at:phase'\n",
    "        df = df[~df['case_parts'].isna()]\n",
    "        df['ct:permit_type'] = df.apply(lambda row: 'Bouw' if 'Bouw' in str(row['case_parts']).split(',') else 'Non Bouw', axis=1)\n",
    "\n",
    "        # only look at the main subprocess: \"01_HOOFD\"\n",
    "        df = df[~df['action_code'].isna()]\n",
    "        df = df[df['action_code'].str.startswith('01_HOOFD')]\n",
    "        df['at:phase'] = df['action_code'].apply(lambda code: code[:10])\n",
    "        \n",
    "        # filter meaningless values\n",
    "\n",
    "    # Universal (on Disco outputs)\n",
    "    # derive and append TT related candidate attributes\n",
    "    df['Complete Timestamp'] = pd.to_datetime(df['Complete Timestamp'], format='%Y-%m-%d %H:%M:%S.%f')\n",
    "    MONTHS = ['Jan', 'Feb', 'Mar', 'Apr', 'May', 'Jun', 'Jul', 'Aug', 'Sep', 'Oct', 'Nov', 'Dec']\n",
    "    df['tt:month'] = df['Complete Timestamp'].apply(lambda ts: MONTHS[ts.month-1])\n",
    "    df['tt:day'] = df['Complete Timestamp'].apply(lambda ts: 'Day_{}'.format(ts.day))\n",
    "    WEEKDAYS = ['Mon', 'Tue', 'Wed', 'Thu', 'Fri', 'Sat', 'Sun']\n",
    "    df['tt:weekday'] = df['Complete Timestamp'].apply(lambda ts: WEEKDAYS[ts.dayofweek])\n",
    "    df['tt:ampm'] = df['Complete Timestamp'].apply(lambda ts: 'AM' if ts.hour < 12 else 'PM')\n",
    "    \n",
    "    print(df)\n",
    "    df.to_csv(f'data/processed/{log}.csv')\n",
    "else:\n",
    "    df = pd.read_csv(fn, index_col=0)\n",
    "    print(df)"
   ]
  },
  {
   "cell_type": "code",
   "execution_count": null,
   "id": "5df09159-a338-46d9-802b-a19d754924a3",
   "metadata": {},
   "outputs": [
    {
     "name": "stdout",
     "output_type": "stream",
     "text": [
      "[2 2 2 2 2 2 2 2 2 2 2 2 2 2 2 2 2 2 2 2 2 2 2 2 2 2 2 2 2 2 2 2 2 2 2 1 2\n",
      " 2 2 2 2 2 2 2 2 2 2 2 1 2 2 2 2 2 2 2 2 2 2 2 2 2 2 2 2 2 2 2 2 2 2 2 2 2\n",
      " 2 2 2 2 2 2 2 2 2 2 2 2 2 2 2 2 2 2 2 2 2 2 2 2 2 2 2 2 2 2 2 2 2 2 2 2 2\n",
      " 2 2 2 2 2 2 2 2 2 2 2 2 2 2 2 2 2 2 2 2 2 2 2 2 2 2 2 2 2 2 2 2 2]\n",
      "Shape: 144 x 2\n"
     ]
    }
   ],
   "source": [
    "if log == 'bpic15':\n",
    "#     attr = 'Activity'\n",
    "#     attr = 'r:municipality'\n",
    "#     attr = 'ct:last_phase'\n",
    "#     attr = 'ct:permit_type'\n",
    "#     attr = 'at:phase'\n",
    "#     attr = 'tt:month'\n",
    "#     attr = 'tt:day'\n",
    "#     attr = 'tt:weekday'\n",
    "    attr = 'tt:ampm'\n",
    "\n",
    "l = df.groupby(['Resource', attr]).size().groupby(level=0).size().to_numpy()\n",
    "print(l)\n",
    "avg_val_per_resource = l.mean()\n",
    "    \n",
    "df_grouped = df.groupby(['Resource', attr]).size().groupby(level=0).apply(lambda x: 100 * x / float(x.sum()))\n",
    "df_grouped = df_grouped.reset_index().pivot(index='Resource', columns=attr, values=0)\n",
    "#print(df_grouped)\n",
    "\n",
    "print(f'Shape: {len(df_grouped)} x {len(df_grouped.columns)}')\n",
    "\n",
    "import matplotlib.pyplot as plt\n",
    "import seaborn as sns\n",
    "#f, ax = plt.subplots(figsize=(20, 20))\n",
    "#ax = sns.heatmap(df_grouped.T, square=True, cbar=False, ax=ax)"
   ]
  },
  {
   "cell_type": "code",
   "execution_count": null,
   "id": "52e648fa-8931-4e62-a9e9-0e250807d76f",
   "metadata": {},
   "outputs": [
    {
     "name": "stdout",
     "output_type": "stream",
     "text": [
      "Avg. Pairwise distance: \n",
      "0.5019425019425019\n",
      "1.986,0.502\n"
     ]
    }
   ],
   "source": [
    "# NOTE: the hopkins stat in package `pyclustertend` is defined similarly to https://en.wikipedia.org/wiki/Hopkins_statistic\n",
    "# Only that the complement is used, i.e., Hopkins = 1 - H, where H is calculated according to the definition shown on Wikipedia\n",
    "# Hence a value closer to 1 suggests strong clustering tendency\n",
    "from pyclustertend import vat, ivat, hopkins\n",
    "from sklearn.preprocessing import scale\n",
    "from scipy.spatial.distance import pdist\n",
    "from numpy import mean\n",
    "\n",
    "# scale\n",
    "X = scale(df_grouped.fillna(0).to_numpy())\n",
    "sample_size = int(0.2 * len(X))\n",
    "\n",
    "# binarize (for hacking hamming distance)\n",
    "B = (X > 0)\n",
    "\n",
    "'''\n",
    "# X-related\n",
    "# avg pdist\n",
    "avg_pdist = pdist(X).mean()\n",
    "print(f'Avg. Pairwise distance (Euclidean): \\n{avg_pdist}')\n",
    "# hopkins stat\n",
    "hopkins_stat = mean([hopkins(X, sampling_size=sample_size) for i in range(1000)])\n",
    "print(f'Hopkins statistic averaged over 1k runs, sampling {sample_size} / {len(X)} (20%) points: \\n{hopkins_stat}')\n",
    "'''\n",
    "\n",
    "# B-related\n",
    "# avg pdist\n",
    "avg_pdist_bin = pdist(B, metric='hamming').mean()\n",
    "print(f'Avg. Pairwise distance: \\n{avg_pdist_bin}')\n",
    "# hopkins stat\n",
    "#hopkins_stat_bin = mean([hopkins(B, sampling_size=sample_size) for i in range(1000)])\n",
    "#print(f'Hopkins statistic averaged over 1k runs, sampling {sample_size} / {len(B)} (20%) points: \\n{hopkins_stat_bin}')\n",
    "\n",
    "\n",
    "#print('{:.3f},{:.3f},{:.3f},{:.3f},{:.3f}'.format(avg_val_per_resource, avg_pdist, hopkins_stat, avg_pdist_bin, hopkins_stat_bin))\n",
    "#print('{:.3f},{:.3f},{:.3f}'.format(avg_val_per_resource, avg_pdist_bin, hopkins_stat_bin))\n",
    "print('{:.3f},{:.3f}'.format(avg_val_per_resource, avg_pdist_bin))\n",
    "    \n",
    "#ivat(X)"
   ]
  },
  {
   "cell_type": "code",
   "execution_count": null,
   "id": "2c87dfdd-39cc-4d86-97ec-a02b8de936ad",
   "metadata": {},
   "outputs": [],
   "source": []
  }
 ],
 "metadata": {
  "kernelspec": {
   "display_name": "Python 3 (ipykernel)",
   "language": "python",
   "name": "python3"
  },
  "language_info": {
   "codemirror_mode": {
    "name": "ipython",
    "version": 3
   },
   "file_extension": ".py",
   "mimetype": "text/x-python",
   "name": "python",
   "nbconvert_exporter": "python",
   "pygments_lexer": "ipython3",
   "version": "3.11.2"
  }
 },
 "nbformat": 4,
 "nbformat_minor": 5
}
