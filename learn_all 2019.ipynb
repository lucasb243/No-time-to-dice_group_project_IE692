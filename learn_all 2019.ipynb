{
 "cells": [
  {
   "attachments": {},
   "cell_type": "markdown",
   "metadata": {},
   "source": [
    "# Imports\n"
   ]
  },
  {
   "attachments": {},
   "cell_type": "markdown",
   "metadata": {},
   "source": [
    "This first section will cover all necessary imports and the ordinor package installation."
   ]
  },
  {
   "attachments": {},
   "cell_type": "markdown",
   "metadata": {},
   "source": [
    "To be able to execute the code from the paper you will need to install a development version of the ordinor package as a local dependency which we have included in our folder structure. The installation of the development branch directly from GitHub didn't work for us which is why we decided to install it locally. To install this get your currenct path of the \"OrdinoR-dev\" folder, open a terminal and run the following code snippet: "
   ]
  },
  {
   "cell_type": "code",
   "execution_count": 3,
   "metadata": {},
   "outputs": [
    {
     "name": "stdout",
     "output_type": "stream",
     "text": [
      "Note: you may need to restart the kernel to use updated packages.\n"
     ]
    },
    {
     "name": "stderr",
     "output_type": "stream",
     "text": [
      "The syntax of the command is incorrect.\n"
     ]
    }
   ],
   "source": [
    "#insert your local path to the OrdinoR-dev folder and run this cell\n",
    "!pip install -e <path_to_ordinor>"
   ]
  },
  {
   "cell_type": "code",
   "execution_count": 1,
   "metadata": {},
   "outputs": [],
   "source": [
    "# import all required packages\n",
    "import pm4py\n",
    "import numpy as np\n",
    "import pandas as pd\n",
    "import seaborn as sns\n",
    "import matplotlib.pyplot as plt\n",
    "from math import log\n",
    "from pytz import timezone\n",
    "from collections import defaultdict\n",
    "from tree import TreeNode, TreePrinter\n",
    "from sklearn.metrics import silhouette_score\n",
    "from sklearn.cluster import AgglomerativeClustering\n",
    "from ordinor.execution_context.rule_based import ODTMiner\n",
    "from ordinor.execution_context.rule_based.Rule import Rule\n",
    "from ordinor.execution_context.rule_based.TreeNode import Node"
   ]
  },
  {
   "attachments": {},
   "cell_type": "markdown",
   "metadata": {},
   "source": [
    "# Preprocessing"
   ]
  },
  {
   "attachments": {},
   "cell_type": "markdown",
   "metadata": {},
   "source": [
    "We used the pre-filtered data set BPIC 2019 that was used last semester in Process Management and Analytics. A lot less preprocessing is required for this data set, as no time differences have to be replicated."
   ]
  },
  {
   "cell_type": "code",
   "execution_count": 5,
   "metadata": {},
   "outputs": [
    {
     "name": "stderr",
     "output_type": "stream",
     "text": [
      "c:\\Users\\corde\\AppData\\Local\\Programs\\Python\\Python310\\lib\\site-packages\\pm4py\\util\\dt_parsing\\parser.py:76: UserWarning: ISO8601 strings are not fully supported with strpfromiso for Python versions below 3.11\n",
      "  warnings.warn(\n"
     ]
    },
    {
     "data": {
      "application/vnd.jupyter.widget-view+json": {
       "model_id": "34fc15dbc02e45c985b30151a4a668c5",
       "version_major": 2,
       "version_minor": 0
      },
      "text/plain": [
       "parsing log, completed traces ::   0%|          | 0/15182 [00:00<?, ?it/s]"
      ]
     },
     "metadata": {},
     "output_type": "display_data"
    }
   ],
   "source": [
    "# read the file and convert to csv\n",
    "combined_df = pm4py.read_xes('data/raw/BPI_Challenge_2019-3-w-after.xes') \n",
    "combined_df.to_csv(\"data/raw/bpic19.csv\", index=False)"
   ]
  },
  {
   "attachments": {},
   "cell_type": "markdown",
   "metadata": {},
   "source": [
    "## Modify authors preprocessing code to fit new data set and execute it\n"
   ]
  },
  {
   "cell_type": "code",
   "execution_count": 14,
   "metadata": {},
   "outputs": [
    {
     "name": "stdout",
     "output_type": "stream",
     "text": [
      "                 Case ID                    Activity Item Type  \\\n",
      "0       2000000001_00001                SRM: Created   Service   \n",
      "1       2000000001_00001               SRM: Complete   Service   \n",
      "2       2000000001_00001      SRM: Awaiting Approval   Service   \n",
      "3       2000000001_00001     SRM: Document Completed   Service   \n",
      "4       2000000001_00001                SRM: Ordered   Service   \n",
      "...                  ...                         ...       ...   \n",
      "319228  4508075963_00001  Record Service Entry Sheet   Service   \n",
      "319229  4508075963_00001  Record Service Entry Sheet   Service   \n",
      "319230  4508075963_00001  Record Service Entry Sheet   Service   \n",
      "319231  4508075963_00001        Record Goods Receipt   Service   \n",
      "319232  4508075963_00001        Record Goods Receipt   Service   \n",
      "\n",
      "              Complete Timestamp      User ct:item_type  \\\n",
      "0      2018-01-03 08:49:00+00:00  batch_00      Service   \n",
      "1      2018-01-03 09:49:00+00:00  batch_00      Service   \n",
      "2      2018-01-03 09:49:00+00:00  batch_00      Service   \n",
      "3      2018-01-03 09:49:00+00:00  batch_00      Service   \n",
      "4      2018-01-03 09:49:00+00:00  batch_00      Service   \n",
      "...                          ...       ...          ...   \n",
      "319228 2018-12-31 22:34:00+00:00      NONE      Service   \n",
      "319229 2018-12-31 22:34:00+00:00      NONE      Service   \n",
      "319230 2018-12-31 22:34:00+00:00      NONE      Service   \n",
      "319231 2018-12-31 22:34:00+00:00  batch_02      Service   \n",
      "319232 2018-12-31 22:34:00+00:00  batch_02      Service   \n",
      "\n",
      "                          at:phase tt:weekday tt:ampm  \n",
      "0                     SRM: Created        Wed      AM  \n",
      "1                    SRM: Complete        Wed      AM  \n",
      "2           SRM: Awaiting Approval        Wed      AM  \n",
      "3          SRM: Document Completed        Wed      AM  \n",
      "4                     SRM: Ordered        Wed      AM  \n",
      "...                            ...        ...     ...  \n",
      "319228  Record Service Entry Sheet        Mon      PM  \n",
      "319229  Record Service Entry Sheet        Mon      PM  \n",
      "319230  Record Service Entry Sheet        Mon      PM  \n",
      "319231        Record Goods Receipt        Mon      PM  \n",
      "319232        Record Goods Receipt        Mon      PM  \n",
      "\n",
      "[319233 rows x 9 columns]\n"
     ]
    }
   ],
   "source": [
    "# Load raw data & Preprocess DataFrame (enrich with derived attributes)\n",
    "# the following use of AT, CT, TT was used similar to the specification by the author an refers to the \"Activity type\", \"Case type\" and \"Time type\" described in the paper\n",
    "\n",
    "logs = ['bpic19']\n",
    "\n",
    "for log in logs:\n",
    "    fn = f'data/raw/{log}.csv'\n",
    "    df = pd.read_csv(fn)[[\n",
    "         'case:concept:name', 'concept:name', 'case:(case) Item Type', 'time:timestamp', 'User'\n",
    "    ]]\n",
    "    \n",
    "    # rename for better readability\n",
    "    df = df.rename(columns={\n",
    "        # TT-related\n",
    "        \"time:timestamp\": \"Complete Timestamp\",\n",
    "        # CT-related\n",
    "        'case:(case) Item Type':'Item Type',\n",
    "        # AT-related\n",
    "        \"concept:name\": \"Activity\",\n",
    "        # Additional\n",
    "        \"case:concept:name\": \"Case ID\"\n",
    "    })\n",
    "    \n",
    "    # define attributes for case type and activity type\n",
    "    df = df[~df['Item Type'].isna()]\n",
    "    df['ct:item_type'] = df['Item Type'] # Item Type is used as case type as it was a finding in the group project in \"Process Management & Analytics\" that this attribute influences the process to a great extent\n",
    "    df['at:phase'] = df['Activity'] # no phases used, only \"raw\" activities because no domain knowledge of grouping present\n",
    "    df = df[~df['Activity'].isna()]\n",
    "\n",
    "    # derive and append TT related candidate attributes (month and day not used with original dataset, so also excluded here)\n",
    "    df['Complete Timestamp'] = pd.to_datetime(\n",
    "        df['Complete Timestamp'], format='%Y-%m-%d %H:%M:%S.%f')\n",
    "    #MONTHS = ['Jan', 'Feb', 'Mar', 'Apr', 'May', 'Jun',\n",
    "    #            'Jul', 'Aug', 'Sep', 'Oct', 'Nov', 'Dec']\n",
    "    #df['tt:month'] = df['Complete Timestamp'].apply(lambda ts: MONTHS[ts.month-1])\n",
    "    #df['tt:day'] = df['Complete Timestamp'].apply(\n",
    "     #   lambda ts: 'Day_{}'.format(ts.day))\n",
    "    WEEKDAYS = ['Mon', 'Tue', 'Wed', 'Thu', 'Fri', 'Sat', 'Sun']\n",
    "    df['tt:weekday'] = df['Complete Timestamp'].apply(\n",
    "        lambda ts: WEEKDAYS[ts.weekday()])\n",
    "    df['tt:ampm'] = df['Complete Timestamp'].apply(\n",
    "        lambda ts: 'AM' if ts.hour < 12 else 'PM')\n",
    "\n",
    "    print(df)\n",
    "    df.to_csv(f'data/processed/{log}.csv')"
   ]
  },
  {
   "attachments": {},
   "cell_type": "markdown",
   "metadata": {},
   "source": [
    "# Execution of ODT(Oblivious Decision Tree)-Miner"
   ]
  },
  {
   "attachments": {},
   "cell_type": "markdown",
   "metadata": {},
   "source": [
    "In this section the ODT-Miner gets executed for the new dataset."
   ]
  },
  {
   "cell_type": "code",
   "execution_count": 17,
   "metadata": {},
   "outputs": [
    {
     "name": "stderr",
     "output_type": "stream",
     "text": [
      "C:\\Users\\corde\\OneDrive\\Documents\\GitHub\\No-time-to-dice_group_project_IE692\\OrdinoR-dev\\ordinor\\execution_context\\rule_based\\decision_tree.py:44: FutureWarning: Passing a set as an indexer is deprecated and will raise in a future version. Use a list instead.\n",
      "  self._log = el[included_cols]\n",
      "C:\\Users\\corde\\OneDrive\\Documents\\GitHub\\No-time-to-dice_group_project_IE692\\OrdinoR-dev\\ordinor\\execution_context\\rule_based\\decision_tree.py:47: SettingWithCopyWarning: \n",
      "A value is trying to be set on a copy of a slice from a DataFrame.\n",
      "Try using .loc[row_indexer,col_indexer] = value instead\n",
      "\n",
      "See the caveats in the documentation: https://pandas.pydata.org/pandas-docs/stable/user_guide/indexing.html#returning-a-view-versus-a-copy\n",
      "  self._log[const.RESOURCE] = self._log[const.RESOURCE].astype('category')\n",
      "C:\\Users\\corde\\OneDrive\\Documents\\GitHub\\No-time-to-dice_group_project_IE692\\OrdinoR-dev\\ordinor\\execution_context\\rule_based\\decision_tree.py:50: SettingWithCopyWarning: \n",
      "A value is trying to be set on a copy of a slice from a DataFrame.\n",
      "Try using .loc[row_indexer,col_indexer] = value instead\n",
      "\n",
      "See the caveats in the documentation: https://pandas.pydata.org/pandas-docs/stable/user_guide/indexing.html#returning-a-view-versus-a-copy\n",
      "  self._log[type_def_attr] = self._log[type_def_attr].astype('category')\n",
      "C:\\Users\\corde\\OneDrive\\Documents\\GitHub\\No-time-to-dice_group_project_IE692\\OrdinoR-dev\\ordinor\\execution_context\\rule_based\\decision_tree.py:81: FutureWarning: The default dtype for empty Series will be 'object' instead of 'float64' in a future version. Specify a dtype explicitly to silence this warning.\n",
      "  self._m_event_node = pd.Series()\n"
     ]
    },
    {
     "name": "stdout",
     "output_type": "stream",
     "text": [
      "Decision tree initialized with an empty root node\n",
      "\tDis. = 0.000000, Imp. = 1.000000, Harmonic Mean. = 0.000000, *** Tree has 1 leaf node(s). ***\n",
      "Start to fit decision tree with max. height = 7\n",
      "Tree grows by splitting all current leaf nodes on `ct:item_type`, step=1 (running for 00:00:54s)\n",
      "\tDis. = 0.001436, Imp. = 0.986440, Harmonic Mean. = 0.002869, *** Tree has 2 leaf node(s). ***\n",
      "Tree grows by splitting all current leaf nodes on `at:phase`, step=2 (running for 00:01:49s)\n",
      "\tDis. = 0.006566, Imp. = 0.958355, Harmonic Mean. = 0.013044, *** Tree has 4 leaf node(s). ***\n",
      "Tree grows by splitting all current leaf nodes on `tt:weekday`, step=3 (running for 00:03:16s)\n",
      "\tDis. = 0.010063, Imp. = 0.955577, Harmonic Mean. = 0.019917, *** Tree has 6 leaf node(s). ***\n",
      "Tree grows by splitting all current leaf nodes on `at:phase`, step=4 (running for 00:04:39s)\n",
      "\tDis. = 0.012695, Imp. = 0.682189, Harmonic Mean. = 0.024925, *** Tree has 9 leaf node(s). ***\n",
      "Tree grows by splitting all current leaf nodes on `at:phase`, step=5 (running for 00:07:02s)\n",
      "\tDis. = 0.012859, Imp. = 0.670550, Harmonic Mean. = 0.025234, *** Tree has 12 leaf node(s). ***\n",
      "Tree grows by splitting all current leaf nodes on `at:phase`, step=6 (running for 00:09:28s)\n",
      "\tDis. = 0.012859, Imp. = 0.669816, Harmonic Mean. = 0.025233, *** Tree has 14 leaf node(s). ***\n",
      "Tree grows by splitting all current leaf nodes on `at:phase`, step=7 (running for 00:11:54s)\n",
      "\tDis. = 0.012859, Imp. = 0.669797, Harmonic Mean. = 0.025233, *** Tree has 15 leaf node(s). ***\n",
      "Sub-tree at step 3 is selected as the final solution: dispersal = 0.010063, impurity = 0.955577\n",
      "********************************************************************************\n",
      "============================== TREE SUMMARY ==============================\n",
      "Score of the current tree:\tDis. = 0.010063, Imp. = 0.955577, Harmonic Mean. = 0.019917, *** Tree has 6 leaf node(s). ***\n",
      "============================== LEAF NODES ==============================\n",
      "319233 events were partitioned into 6 leaf nodes:\n",
      "========================= ENCODING TYPES WITH RULES =========================\n",
      "Rules for Case Types:\n",
      "\t(`ct:item_type` ELEMENT OF {'Subcontracting'})\n",
      "\t(`ct:item_type` ELEMENT OF {'Service', 'Standard', 'Third-party'})\n",
      "Rules for Activity Types:\n",
      "\t(`at:phase` ELEMENT OF {'Change Final Invoice Indicator', 'Create Purchase Requisition Item', 'Delete Purchase Order Item', 'Release Purchase Order', 'SRM: Awaiting Approval', 'SRM: Complete', 'SRM: Created', 'SRM: In Transfer to Execution Syst.', 'SRM: Incomplete', 'SRM: Transfer Failed (E.Sys.)'})\n",
      "\t(`at:phase` ELEMENT OF {'Cancel Goods Receipt', 'Cancel Invoice Receipt', 'Cancel Subsequent Invoice', 'Change Approval for Purchase Order', 'Change Delivery Indicator', 'Change Price', 'Change Quantity', 'Change Rejection Indicator', 'Change Storage Location', 'Change payment term', 'Clear Invoice', 'Create Purchase Order Item', 'Reactivate Purchase Order Item', 'Receive Order Confirmation', 'Record Goods Receipt', 'Record Invoice Receipt', 'Record Service Entry Sheet', 'Record Subsequent Invoice', 'Remove Payment Block', 'SRM: Change was Transmitted', 'SRM: Deleted', 'SRM: Document Completed', 'SRM: Held', 'SRM: Ordered', 'SRM: Transaction Completed', 'Set Payment Block', 'Vendor creates debit memo', 'Vendor creates invoice'})\n",
      "Rules for Time Types:\n",
      "\t(`tt:weekday` ELEMENT OF {'Fri', 'Mon', 'Sat', 'Thu', 'Tue', 'Wed'})\n",
      "\t(`tt:weekday` ELEMENT OF {'Sun'})\n",
      "********************************************************************************\n",
      "Procedure history has been written to files.\n",
      "--------------------------------------------------------------------------------\n",
      "Count of Types in the current ODTMiner:\n",
      "Number of C Types:\t\t2\n",
      "Number of A Types:\t\t2\n",
      "Number of T Types:\t\t2\n",
      "--------------------------------------------------------------------------------\n"
     ]
    }
   ],
   "source": [
    "# define a fucntion to train the miner\n",
    "def trainMiners(tree_height):\n",
    "    # train miner based on the orignal data\n",
    "    df_bpic19 = pd.read_csv('data/processed/bpic19.csv')\n",
    "    \n",
    "    df_bpic19 = df_bpic19.rename(columns={\n",
    "        # Resource-related\n",
    "        \"User\": \"org:resource\",\n",
    "        # TT-related\n",
    "        \"Complete Timestamp\": \"time:timestamp\",\n",
    "        # CT-related\n",
    "        'Item Type': 'ct:last_phase',\n",
    "        # AT-related\n",
    "        \"Activity\": \"concept:name\",\n",
    "        # Additional\n",
    "        \"Case ID\": \"case:concept:name\"\n",
    "    })\n",
    "    \n",
    "    spec = {\n",
    "        'type_def_attrs': {\n",
    "            # BPIC19\n",
    "            'ct:item_type': {'attr_type': 'categorical', 'attr_dim': 'CT'},\n",
    "            'at:phase': {'attr_type': 'categorical', 'attr_dim': 'AT'},\n",
    "            'tt:weekday': {'attr_type': 'categorical', 'attr_dim': 'TT'},\n",
    "            'tt:ampm': {'attr_type': 'categorical', 'attr_dim': 'TT'},\n",
    "        }\n",
    "    }\n",
    "\n",
    "    # training the miner\n",
    "    miner_bpic19 = ODTMiner(df_bpic19, spec, max_height=tree_height, trace_history=True)\n",
    "\n",
    "    return miner_bpic19\n",
    "\n",
    "\n",
    "miner_bpic19 = trainMiners(tree_height=7)\n",
    "\n",
    "\n",
    "\n"
   ]
  },
  {
   "attachments": {},
   "cell_type": "markdown",
   "metadata": {},
   "source": [
    "The learned execution contexts have to be added again for the clustering algorithm.\n"
   ]
  },
  {
   "cell_type": "code",
   "execution_count": 18,
   "metadata": {},
   "outputs": [
    {
     "name": "stderr",
     "output_type": "stream",
     "text": [
      "C:\\Users\\corde\\OneDrive\\Documents\\GitHub\\No-time-to-dice_group_project_IE692\\OrdinoR-dev\\ordinor\\execution_context\\rule_based\\decision_tree.py:44: FutureWarning: Passing a set as an indexer is deprecated and will raise in a future version. Use a list instead.\n",
      "  self._log = el[included_cols]\n",
      "C:\\Users\\corde\\OneDrive\\Documents\\GitHub\\No-time-to-dice_group_project_IE692\\OrdinoR-dev\\ordinor\\execution_context\\rule_based\\decision_tree.py:47: SettingWithCopyWarning: \n",
      "A value is trying to be set on a copy of a slice from a DataFrame.\n",
      "Try using .loc[row_indexer,col_indexer] = value instead\n",
      "\n",
      "See the caveats in the documentation: https://pandas.pydata.org/pandas-docs/stable/user_guide/indexing.html#returning-a-view-versus-a-copy\n",
      "  self._log[const.RESOURCE] = self._log[const.RESOURCE].astype('category')\n",
      "C:\\Users\\corde\\OneDrive\\Documents\\GitHub\\No-time-to-dice_group_project_IE692\\OrdinoR-dev\\ordinor\\execution_context\\rule_based\\decision_tree.py:50: SettingWithCopyWarning: \n",
      "A value is trying to be set on a copy of a slice from a DataFrame.\n",
      "Try using .loc[row_indexer,col_indexer] = value instead\n",
      "\n",
      "See the caveats in the documentation: https://pandas.pydata.org/pandas-docs/stable/user_guide/indexing.html#returning-a-view-versus-a-copy\n",
      "  self._log[type_def_attr] = self._log[type_def_attr].astype('category')\n",
      "C:\\Users\\corde\\OneDrive\\Documents\\GitHub\\No-time-to-dice_group_project_IE692\\OrdinoR-dev\\ordinor\\execution_context\\rule_based\\decision_tree.py:81: FutureWarning: The default dtype for empty Series will be 'object' instead of 'float64' in a future version. Specify a dtype explicitly to silence this warning.\n",
      "  self._m_event_node = pd.Series()\n"
     ]
    },
    {
     "name": "stdout",
     "output_type": "stream",
     "text": [
      "Decision tree initialized with an empty root node\n",
      "\tDis. = 0.000000, Imp. = 1.000000, Harmonic Mean. = 0.000000, *** Tree has 1 leaf node(s). ***\n",
      "Start to fit decision tree with max. height = 7\n",
      "Tree grows by splitting all current leaf nodes on `ct:item_type`, step=1 (running for 00:01:05s)\n",
      "\tDis. = 0.001436, Imp. = 0.986440, Harmonic Mean. = 0.002869, *** Tree has 2 leaf node(s). ***\n",
      "Tree grows by splitting all current leaf nodes on `at:phase`, step=2 (running for 00:02:12s)\n",
      "\tDis. = 0.009194, Imp. = 0.710548, Harmonic Mean. = 0.018153, *** Tree has 4 leaf node(s). ***\n",
      "Tree grows by splitting all current leaf nodes on `at:phase`, step=3 (running for 00:04:22s)\n",
      "\tDis. = 0.009194, Imp. = 0.686532, Harmonic Mean. = 0.018145, *** Tree has 5 leaf node(s). ***\n",
      "Tree grows by splitting all current leaf nodes on `at:phase`, step=4 (running for 00:05:56s)\n",
      "\tDis. = 0.009194, Imp. = 0.685934, Harmonic Mean. = 0.018144, *** Tree has 6 leaf node(s). ***\n",
      "Tree grows by splitting all current leaf nodes on `at:phase`, step=5 (running for 00:07:42s)\n",
      "\tDis. = 0.009194, Imp. = 0.685861, Harmonic Mean. = 0.018144, *** Tree has 7 leaf node(s). ***\n",
      "Tree grows by splitting all current leaf nodes on `at:phase`, step=6 (running for 00:09:49s)\n",
      "\tDis. = 0.010184, Imp. = 0.685740, Harmonic Mean. = 0.020070, *** Tree has 8 leaf node(s). ***\n",
      "Tree grows by splitting all current leaf nodes on `at:phase`, step=7 (running for 00:11:52s)\n",
      "\tDis. = 0.011077, Imp. = 0.685613, Harmonic Mean. = 0.021802, *** Tree has 9 leaf node(s). ***\n",
      "Sub-tree at step 3 is selected as the final solution: dispersal = 0.009194, impurity = 0.686532\n",
      "********************************************************************************\n",
      "============================== TREE SUMMARY ==============================\n",
      "Score of the current tree:\tDis. = 0.009194, Imp. = 0.686532, Harmonic Mean. = 0.018145, *** Tree has 5 leaf node(s). ***\n",
      "============================== LEAF NODES ==============================\n",
      "319233 events were partitioned into 5 leaf nodes:\n",
      "========================= ENCODING TYPES WITH RULES =========================\n",
      "Rules for Case Types:\n",
      "\t(`ct:item_type` ELEMENT OF {'Subcontracting'})\n",
      "\t(`ct:item_type` ELEMENT OF {'Service', 'Standard', 'Third-party'})\n",
      "Rules for Activity Types:\n",
      "\t(`at:phase` ELEMENT OF {'Cancel Invoice Receipt', 'Change Approval for Purchase Order', 'Change Delivery Indicator', 'Change Final Invoice Indicator', 'Change Quantity', 'Change Rejection Indicator', 'Change Storage Location', 'Change payment term', 'Clear Invoice', 'Create Purchase Requisition Item', 'Reactivate Purchase Order Item', 'Receive Order Confirmation', 'Record Invoice Receipt', 'Record Service Entry Sheet', 'Record Subsequent Invoice', 'Release Purchase Order', 'Remove Payment Block', 'SRM: Awaiting Approval', 'SRM: Complete', 'SRM: Deleted', 'SRM: Held', 'SRM: Incomplete', 'SRM: Transaction Completed', 'SRM: Transfer Failed (E.Sys.)', 'Vendor creates debit memo', 'Vendor creates invoice'})\n",
      "\t(`at:phase` ELEMENT OF {'Cancel Goods Receipt', 'Change Price', 'Create Purchase Order Item', 'Delete Purchase Order Item', 'Record Goods Receipt'})\n",
      "\t(`at:phase` ELEMENT OF {'Cancel Subsequent Invoice', 'SRM: Change was Transmitted', 'SRM: Created', 'SRM: Document Completed', 'SRM: In Transfer to Execution Syst.', 'SRM: Ordered', 'Set Payment Block'})\n",
      "Rules for Time Types:\n",
      "\tT(NULL)\n",
      "********************************************************************************\n",
      "Procedure history has been written to files.\n",
      "--------------------------------------------------------------------------------\n",
      "Count of Types in the current ODTMiner:\n",
      "Number of C Types:\t\t2\n",
      "Number of A Types:\t\t3\n",
      "Number of T Types:\t\t1\n",
      "--------------------------------------------------------------------------------\n"
     ]
    }
   ],
   "source": [
    "def addDimensions(df, miner):\n",
    "    # get different rules\n",
    "    l_rules_ct, l_rules_at, l_rules_tt = miner._parse_rules_from_leaves(\n",
    "        miner._leaves)\n",
    "\n",
    "    # label ATs\n",
    "    dfs = [r.apply(df, index_only=False).assign(AT_rule=r) for r in l_rules_at]\n",
    "    df = pd.concat(dfs)\n",
    "\n",
    "    # label CTs\n",
    "    dfs = [r.apply(df, index_only=False).assign(CT_rule=r) for r in l_rules_ct]\n",
    "    df = pd.concat(dfs)\n",
    "\n",
    "    # label TTs\n",
    "    dfs = [r.apply(df, index_only=False).assign(TT_rule=r) for r in l_rules_tt]\n",
    "    df = pd.concat(dfs)\n",
    "\n",
    "    # add CO_rule as combination of AT CT and TT\n",
    "    df['CO_rule'] = df.apply(lambda x: Rule(x['AT_rule'].ars+x['CT_rule'].ars+x['TT_rule'].ars), axis=1)\n",
    "\n",
    "    return df\n",
    "\n",
    "\n",
    "# have to train miner again because i could not save the trained miners and the miners are changed by the last function\n",
    "miner_bpic19 = trainMiners(tree_height=7) \n",
    "\n",
    "df_bpic19 = pd.read_csv('data/processed/bpic19.csv')\n",
    "df_bpic19 = addDimensions(df_bpic19, miner_bpic19)\n",
    "df_bpic19.to_csv('data/added_execution_contexts/bpic19.csv', index=False)\n",
    "\n"
   ]
  },
  {
   "attachments": {},
   "cell_type": "markdown",
   "metadata": {},
   "source": [
    "# Results of replication"
   ]
  },
  {
   "attachments": {},
   "cell_type": "markdown",
   "metadata": {},
   "source": [
    "This section will now cover what we have achieved and which deifferences exist. The goal of this paper was to create execution contexts which should be used to form culsters more effiecently than just using the acticity itself. To show his success, the author draws a graph which compares the silouhette scores, depending on the number of clusters. There you can see his generated execution contexts generally form better clusters than just using the activity. We did the same for the new data set."
   ]
  },
  {
   "cell_type": "code",
   "execution_count": 20,
   "metadata": {},
   "outputs": [
    {
     "data": {
      "image/png": "[encoded data removed]",
      "text/plain": [
       "<Figure size 576x288 with 1 Axes>"
      ]
     },
     "metadata": {
      "needs_background": "light"
     },
     "output_type": "display_data"
    }
   ],
   "source": [
    "\n",
    "# create scores to show in graph\n",
    "df = pd.read_csv('data/added_execution_contexts/bpic19.csv')\n",
    "\n",
    "X1 = df.groupby(['User', 'Activity']).size().unstack().fillna(0) # grouping with attribute activity like in the original method\n",
    "X2 = df.groupby(['User', 'CO_rule']).size().unstack().fillna(0) # using execution context\n",
    "\n",
    "l_ss1 = []\n",
    "l_ss2 = []\n",
    "for k in range(2, len(X1)):\n",
    "    clu1 = AgglomerativeClustering(n_clusters=k).fit_predict(X1)\n",
    "    ss1 = silhouette_score(X1, clu1)\n",
    "    l_ss1.append(ss1)\n",
    "    clu2 = AgglomerativeClustering(n_clusters=k).fit_predict(X2)\n",
    "    ss2 = silhouette_score(X2, clu2)\n",
    "    l_ss2.append(ss2)\n",
    "    \n",
    "data = []\n",
    "\n",
    "for i in range(len(l_ss1)):\n",
    "    data.append({'k': i + 2, 'score': l_ss2[i], 'matrix based on': 'Execution Context (Our)'})\n",
    "    data.append({'k': i + 2, 'score': l_ss1[i], 'matrix based on': 'Activity'}) \n",
    "\n",
    "data = pd.DataFrame(data)\n",
    "\n",
    "data\n",
    "\n",
    "f, ax = plt.subplots(figsize=(8, 4))\n",
    "ax = sns.lineplot(data=data, x=\"k\", y=\"score\", ax=ax,\n",
    "                  hue=\"matrix based on\", style='matrix based on', \n",
    "                  palette={\n",
    "                        'Activity': '#898989',\n",
    "                        'Execution Context': '#003056'}, \n",
    "                    dashes={\n",
    "                            'Activity': (1,1),\n",
    "                            'Execution Context': (1, 0)})\n",
    "plt.xlabel('Number of resource clusters')\n",
    "plt.ylabel(\"Silhouette score\")\n",
    "plt.show()\n",
    "f.savefig(\"graphs/omm_all.pdf\", bbox_inches='tight')\n"
   ]
  }
 ],
 "metadata": {
  "kernelspec": {
   "display_name": "ProcessMining",
   "language": "python",
   "name": "python3"
  },
  "language_info": {
   "codemirror_mode": {
    "name": "ipython",
    "version": 3
   },
   "file_extension": ".py",
   "mimetype": "text/x-python",
   "name": "python",
   "nbconvert_exporter": "python",
   "pygments_lexer": "ipython3",
   "version": "3.10.3"
  },
  "orig_nbformat": 4
 },
 "nbformat": 4,
 "nbformat_minor": 2
}
